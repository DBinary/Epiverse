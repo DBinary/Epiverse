{
 "cells": [
  {
   "cell_type": "markdown",
   "metadata": {},
   "source": [
    "# Loading scATAC-seq Data, you can find them with GEO number GSE228370"
   ]
  },
  {
   "cell_type": "code",
   "execution_count": 1,
   "metadata": {},
   "outputs": [],
   "source": [
    "import SCATACpy"
   ]
  },
  {
   "cell_type": "code",
   "execution_count": 5,
   "metadata": {},
   "outputs": [
    {
     "data": {
      "text/plain": [
       "AnnData object with n_obs × n_vars = 3467 × 193406\n",
       "    uns: 'omic'"
      ]
     },
     "execution_count": 5,
     "metadata": {},
     "output_type": "execute_result"
    }
   ],
   "source": [
    "adata_1 = SCATACpy.Read.read_ATAC_10x('/home/DAIR/hul/scATAC-seq/data/Data/concat_data/GSM7119507_23pcw_scATAC_filtered_peak_bc_matrix_matrix.mtx', \\\n",
    "                                cell_names='/home/DAIR/hul/scATAC-seq/data/Data/concat_data/GSM7119507_23pcw_scATAC_filtered_peak_bc_matrix_barcodes.tsv', \\\n",
    "                                var_names='/home/DAIR/hul/scATAC-seq/data/Data/concat_data/GSM7119507_23pcw_scATAC_filtered_peak_bc_matrix_peaks.bed')\n",
    "adata_1"
   ]
  },
  {
   "cell_type": "code",
   "execution_count": 7,
   "metadata": {},
   "outputs": [
    {
     "data": {
      "text/plain": [
       "AnnData object with n_obs × n_vars = 1184 × 89449\n",
       "    uns: 'omic'"
      ]
     },
     "execution_count": 7,
     "metadata": {},
     "output_type": "execute_result"
    }
   ],
   "source": [
    "adata_2 = SCATACpy.Read.read_ATAC_10x('/home/DAIR/hul/scATAC-seq/data/Data/concat_data/GSM7119508_26pcw_n_scATAC_filtered_peak_bc_matrix_matrix.mtx', \\\n",
    "                                cell_names='/home/DAIR/hul/scATAC-seq/data/Data/concat_data/GSM7119508_26pcw_n_scATAC_filtered_peak_bc_matrix_barcodes.tsv', \\\n",
    "                                var_names='/home/DAIR/hul/scATAC-seq/data/Data/concat_data/GSM7119508_26pcw_n_scATAC_filtered_peak_bc_matrix_peaks.bed')\n",
    "adata_2"
   ]
  }
 ],
 "metadata": {
  "kernelspec": {
   "display_name": "Python 3",
   "language": "python",
   "name": "python3"
  },
  "language_info": {
   "codemirror_mode": {
    "name": "ipython",
    "version": 3
   },
   "file_extension": ".py",
   "mimetype": "text/x-python",
   "name": "python",
   "nbconvert_exporter": "python",
   "pygments_lexer": "ipython3",
   "version": "3.8.16"
  },
  "orig_nbformat": 4
 },
 "nbformat": 4,
 "nbformat_minor": 2
}
