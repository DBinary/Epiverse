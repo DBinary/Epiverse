{
 "cells": [
  {
   "cell_type": "markdown",
   "metadata": {},
   "source": [
    "# Loading scATAC-seq Data, you can find them with GEO number GSE228370"
   ]
  },
  {
   "cell_type": "code",
   "execution_count": 1,
   "metadata": {},
   "outputs": [],
   "source": [
    "import SCATACpy"
   ]
  },
  {
   "cell_type": "code",
   "execution_count": 2,
   "metadata": {},
   "outputs": [
    {
     "data": {
      "text/plain": [
       "AnnData object with n_obs × n_vars = 3467 × 193406\n",
       "    uns: 'omic'"
      ]
     },
     "execution_count": 2,
     "metadata": {},
     "output_type": "execute_result"
    }
   ],
   "source": [
    "adata_1 = SCATACpy.Read.read_ATAC_10x('/home/DAIR/hul/scATAC-seq/data/Data/concat_data/GSM7119507_23pcw_scATAC_filtered_peak_bc_matrix_matrix.mtx', \\\n",
    "                                cell_names='/home/DAIR/hul/scATAC-seq/data/Data/concat_data/GSM7119507_23pcw_scATAC_filtered_peak_bc_matrix_barcodes.tsv', \\\n",
    "                                var_names='/home/DAIR/hul/scATAC-seq/data/Data/concat_data/GSM7119507_23pcw_scATAC_filtered_peak_bc_matrix_peaks.bed')\n",
    "adata_1"
   ]
  },
  {
   "cell_type": "code",
   "execution_count": 3,
   "metadata": {},
   "outputs": [
    {
     "data": {
      "text/plain": [
       "AnnData object with n_obs × n_vars = 1184 × 89449\n",
       "    uns: 'omic'"
      ]
     },
     "execution_count": 3,
     "metadata": {},
     "output_type": "execute_result"
    }
   ],
   "source": [
    "adata_2 = SCATACpy.Read.read_ATAC_10x('/home/DAIR/hul/scATAC-seq/data/Data/concat_data/GSM7119508_26pcw_n_scATAC_filtered_peak_bc_matrix_matrix.mtx', \\\n",
    "                                cell_names='/home/DAIR/hul/scATAC-seq/data/Data/concat_data/GSM7119508_26pcw_n_scATAC_filtered_peak_bc_matrix_barcodes.tsv', \\\n",
    "                                var_names='/home/DAIR/hul/scATAC-seq/data/Data/concat_data/GSM7119508_26pcw_n_scATAC_filtered_peak_bc_matrix_peaks.bed')\n",
    "adata_2"
   ]
  },
  {
   "cell_type": "code",
   "execution_count": 4,
   "metadata": {},
   "outputs": [
    {
     "name": "stdout",
     "output_type": "stream",
     "text": [
      "start chr13_\n",
      "start chr18_\n",
      "start chr1_\n",
      "start chr6_\n",
      "start chr20_\n",
      "start chr7_\n",
      "start chr22_\n",
      "start chr17_\n",
      "start chr21_\n",
      "start chr3_\n",
      "start chr4_\n",
      "start chr12_\n",
      "start chr14_\n",
      "start chr8_\n",
      "start chr19_\n",
      "start chrX_\n",
      "start chr10_\n",
      "start chr15_\n",
      "start chr11_\n",
      "start chr5_\n",
      "start chr2_\n",
      "start chr9_\n",
      "start chr16_\n",
      "start chrY_\n"
     ]
    },
    {
     "data": {
      "text/html": [
       "<div>\n",
       "<style scoped>\n",
       "    .dataframe tbody tr th:only-of-type {\n",
       "        vertical-align: middle;\n",
       "    }\n",
       "\n",
       "    .dataframe tbody tr th {\n",
       "        vertical-align: top;\n",
       "    }\n",
       "\n",
       "    .dataframe thead th {\n",
       "        text-align: right;\n",
       "    }\n",
       "</style>\n",
       "<table border=\"1\" class=\"dataframe\">\n",
       "  <thead>\n",
       "    <tr style=\"text-align: right;\">\n",
       "      <th></th>\n",
       "      <th>overleaf_1</th>\n",
       "      <th>overleaf_2</th>\n",
       "      <th>index_new</th>\n",
       "      <th>index_1</th>\n",
       "      <th>index_2</th>\n",
       "    </tr>\n",
       "  </thead>\n",
       "  <tbody>\n",
       "    <tr>\n",
       "      <th>chr13_17337522_17337758</th>\n",
       "      <td>0.684211</td>\n",
       "      <td>0.812632</td>\n",
       "      <td>chr13_17337433_17337908</td>\n",
       "      <td>chr13_17337522_17337758</td>\n",
       "      <td>chr13_17337433_17337908</td>\n",
       "    </tr>\n",
       "    <tr>\n",
       "      <th>chr13_18211556_18213312</th>\n",
       "      <td>0.792208</td>\n",
       "      <td>0.994178</td>\n",
       "      <td>chr13_18211543_18213776</td>\n",
       "      <td>chr13_18211556_18213312</td>\n",
       "      <td>chr13_18211543_18213776</td>\n",
       "    </tr>\n",
       "    <tr>\n",
       "      <th>chr13_18600112_18600444</th>\n",
       "      <td>1.323034</td>\n",
       "      <td>0.609551</td>\n",
       "      <td>chr13_18599973_18600444</td>\n",
       "      <td>chr13_18600112_18600444</td>\n",
       "      <td>chr13_18599973_18600329</td>\n",
       "    </tr>\n",
       "    <tr>\n",
       "      <th>chr13_18609307_18609827</th>\n",
       "      <td>1.271795</td>\n",
       "      <td>1.061538</td>\n",
       "      <td>chr13_18609307_18609827</td>\n",
       "      <td>chr13_18609307_18609827</td>\n",
       "      <td>chr13_18609331_18609721</td>\n",
       "    </tr>\n",
       "    <tr>\n",
       "      <th>chr13_19564546_19565396</th>\n",
       "      <td>1.278937</td>\n",
       "      <td>1.333966</td>\n",
       "      <td>chr13_19564546_19565396</td>\n",
       "      <td>chr13_19564546_19565396</td>\n",
       "      <td>chr13_19564722_19565249</td>\n",
       "    </tr>\n",
       "    <tr>\n",
       "      <th>...</th>\n",
       "      <td>...</td>\n",
       "      <td>...</td>\n",
       "      <td>...</td>\n",
       "      <td>...</td>\n",
       "      <td>...</td>\n",
       "    </tr>\n",
       "    <tr>\n",
       "      <th>chrY_56706971_56707455</th>\n",
       "      <td>0.986063</td>\n",
       "      <td>0.857143</td>\n",
       "      <td>chrY_56706889_56707463</td>\n",
       "      <td>chrY_56706971_56707455</td>\n",
       "      <td>chrY_56706889_56707463</td>\n",
       "    </tr>\n",
       "    <tr>\n",
       "      <th>chrY_56727936_56728362</th>\n",
       "      <td>0.956236</td>\n",
       "      <td>0.97593</td>\n",
       "      <td>chrY_56727925_56728382</td>\n",
       "      <td>chrY_56727936_56728362</td>\n",
       "      <td>chrY_56727925_56728382</td>\n",
       "    </tr>\n",
       "    <tr>\n",
       "      <th>chrY_56734603_56734980</th>\n",
       "      <td>0.931818</td>\n",
       "      <td>0.925</td>\n",
       "      <td>chrY_56734570_56735010</td>\n",
       "      <td>chrY_56734603_56734980</td>\n",
       "      <td>chrY_56734570_56735010</td>\n",
       "    </tr>\n",
       "    <tr>\n",
       "      <th>chrY_56763202_56763825</th>\n",
       "      <td>0.9968</td>\n",
       "      <td>1.0</td>\n",
       "      <td>chrY_56763202_56763827</td>\n",
       "      <td>chrY_56763202_56763825</td>\n",
       "      <td>chrY_56763202_56763827</td>\n",
       "    </tr>\n",
       "    <tr>\n",
       "      <th>chrY_56836479_56836974</th>\n",
       "      <td>0.902939</td>\n",
       "      <td>0.168029</td>\n",
       "      <td>chrY_56830676_56837651</td>\n",
       "      <td>chrY_56836479_56836974</td>\n",
       "      <td>chrY_56830676_56837651</td>\n",
       "    </tr>\n",
       "  </tbody>\n",
       "</table>\n",
       "<p>72869 rows × 5 columns</p>\n",
       "</div>"
      ],
      "text/plain": [
       "                        overleaf_1 overleaf_2                index_new  \\\n",
       "chr13_17337522_17337758   0.684211   0.812632  chr13_17337433_17337908   \n",
       "chr13_18211556_18213312   0.792208   0.994178  chr13_18211543_18213776   \n",
       "chr13_18600112_18600444   1.323034   0.609551  chr13_18599973_18600444   \n",
       "chr13_18609307_18609827   1.271795   1.061538  chr13_18609307_18609827   \n",
       "chr13_19564546_19565396   1.278937   1.333966  chr13_19564546_19565396   \n",
       "...                            ...        ...                      ...   \n",
       "chrY_56706971_56707455    0.986063   0.857143   chrY_56706889_56707463   \n",
       "chrY_56727936_56728362    0.956236    0.97593   chrY_56727925_56728382   \n",
       "chrY_56734603_56734980    0.931818      0.925   chrY_56734570_56735010   \n",
       "chrY_56763202_56763825      0.9968        1.0   chrY_56763202_56763827   \n",
       "chrY_56836479_56836974    0.902939   0.168029   chrY_56830676_56837651   \n",
       "\n",
       "                                         index_1                  index_2  \n",
       "chr13_17337522_17337758  chr13_17337522_17337758  chr13_17337433_17337908  \n",
       "chr13_18211556_18213312  chr13_18211556_18213312  chr13_18211543_18213776  \n",
       "chr13_18600112_18600444  chr13_18600112_18600444  chr13_18599973_18600329  \n",
       "chr13_18609307_18609827  chr13_18609307_18609827  chr13_18609331_18609721  \n",
       "chr13_19564546_19565396  chr13_19564546_19565396  chr13_19564722_19565249  \n",
       "...                                          ...                      ...  \n",
       "chrY_56706971_56707455    chrY_56706971_56707455   chrY_56706889_56707463  \n",
       "chrY_56727936_56728362    chrY_56727936_56728362   chrY_56727925_56728382  \n",
       "chrY_56734603_56734980    chrY_56734603_56734980   chrY_56734570_56735010  \n",
       "chrY_56763202_56763825    chrY_56763202_56763825   chrY_56763202_56763827  \n",
       "chrY_56836479_56836974    chrY_56836479_56836974   chrY_56830676_56837651  \n",
       "\n",
       "[72869 rows x 5 columns]"
      ]
     },
     "execution_count": 4,
     "metadata": {},
     "output_type": "execute_result"
    }
   ],
   "source": [
    "adata_concat_index = SCATACpy.Concat.atac_concat_get_index(adata_1,adata_2)\n",
    "adata_concat_index"
   ]
  },
  {
   "cell_type": "code",
   "execution_count": 8,
   "metadata": {},
   "outputs": [
    {
     "name": "stderr",
     "output_type": "stream",
     "text": [
      "/home/DAIR/hul/miniconda3/envs/scRNA/lib/python3.8/site-packages/anndata/_core/anndata.py:1830: UserWarning: Observation names are not unique. To make them unique, call `.obs_names_make_unique`.\n",
      "  utils.warn_names_duplicates(\"obs\")\n"
     ]
    },
    {
     "data": {
      "text/plain": [
       "View of AnnData object with n_obs × n_vars = 4651 × 209986"
      ]
     },
     "execution_count": 8,
     "metadata": {},
     "output_type": "execute_result"
    }
   ],
   "source": [
    "adata_outer = SCATACpy.Concat.atac_concat_outer(adata_1,adata_2,adata_concat_index) #并集\n",
    "adata_outer"
   ]
  },
  {
   "cell_type": "code",
   "execution_count": 6,
   "metadata": {},
   "outputs": [
    {
     "name": "stderr",
     "output_type": "stream",
     "text": [
      "/home/DAIR/hul/miniconda3/envs/scRNA/lib/python3.8/site-packages/anndata/_core/anndata.py:1830: UserWarning: Observation names are not unique. To make them unique, call `.obs_names_make_unique`.\n",
      "  utils.warn_names_duplicates(\"obs\")\n"
     ]
    },
    {
     "data": {
      "text/plain": [
       "AnnData object with n_obs × n_vars = 4651 × 72869"
      ]
     },
     "execution_count": 6,
     "metadata": {},
     "output_type": "execute_result"
    }
   ],
   "source": [
    "adata_inner = SCATACpy.Concat.atac_concat_inner(adata_1,adata_2,adata_concat_index) #并集\n",
    "adata_inner"
   ]
  },
  {
   "cell_type": "code",
   "execution_count": null,
   "metadata": {},
   "outputs": [],
   "source": []
  }
 ],
 "metadata": {
  "kernelspec": {
   "display_name": "Python 3",
   "language": "python",
   "name": "python3"
  },
  "language_info": {
   "codemirror_mode": {
    "name": "ipython",
    "version": 3
   },
   "file_extension": ".py",
   "mimetype": "text/x-python",
   "name": "python",
   "nbconvert_exporter": "python",
   "pygments_lexer": "ipython3",
   "version": "3.8.16"
  },
  "orig_nbformat": 4
 },
 "nbformat": 4,
 "nbformat_minor": 2
}
