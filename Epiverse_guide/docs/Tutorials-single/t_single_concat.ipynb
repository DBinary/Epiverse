{
 "cells": [
  {
   "attachments": {},
   "cell_type": "markdown",
   "id": "12813db3",
   "metadata": {},
   "source": [
    "#  Data integration "
   ]
  },
  {
   "cell_type": "code",
   "execution_count": 3,
   "id": "5511bf32-ce82-44cc-9f25-e3997b266bd2",
   "metadata": {},
   "outputs": [
    {
     "name": "stderr",
     "output_type": "stream",
     "text": [
      "2023-08-16 17:43:23.672326: I tensorflow/core/platform/cpu_feature_guard.cc:193] This TensorFlow binary is optimized with oneAPI Deep Neural Network Library (oneDNN) to use the following CPU instructions in performance-critical operations:  AVX2 FMA\n",
      "To enable them in other operations, rebuild TensorFlow with the appropriate compiler flags.\n",
      "2023-08-16 17:43:29.057535: W tensorflow/compiler/xla/stream_executor/platform/default/dso_loader.cc:64] Could not load dynamic library 'libnvinfer.so.7'; dlerror: libnvinfer.so.7: cannot open shared object file: No such file or directory\n",
      "2023-08-16 17:43:29.058608: W tensorflow/compiler/xla/stream_executor/platform/default/dso_loader.cc:64] Could not load dynamic library 'libnvinfer_plugin.so.7'; dlerror: libnvinfer_plugin.so.7: cannot open shared object file: No such file or directory\n",
      "2023-08-16 17:43:29.058641: W tensorflow/compiler/tf2tensorrt/utils/py_utils.cc:38] TF-TRT Warning: Cannot dlopen some TensorRT libraries. If you would like to use Nvidia GPU with TensorRT, please make sure the missing libraries mentioned above are installed properly.\n"
     ]
    }
   ],
   "source": [
    "import scanpy as sc\n",
    "import anndata\n",
    "import os\n",
    "import omicverse as ov\n",
    "import Epiverse as ev"
   ]
  },
  {
   "cell_type": "code",
   "execution_count": 4,
   "id": "cc99011d-3a05-4818-9155-2afe760d6c02",
   "metadata": {},
   "outputs": [
    {
     "data": {
      "text/plain": [
       "['GSM7119498_9pcw_scATAC_filtered_peak_bc_atac.h5ad',\n",
       " 'GSM7119504_18pcw_scATAC_filtered_peak_bc_atac.h5ad',\n",
       " 'GSM7119508_26pcw_n_scATAC_filtered_peak_bc_atac.h5ad',\n",
       " 'GSM7119506_20pcw_scATAC_filtered_peak_bc_atac.h5ad',\n",
       " 'GSM7119502_14pcw_scATAC_filtered_peak_bc_atac.h5ad',\n",
       " 'GSM7119499_10pcw_scATAC_filtered_peak_bc_atac.h5ad',\n",
       " 'GSM7119503_15pcw_scATAC_filtered_peak_bc_atac.h5ad',\n",
       " 'GSM7119500_11pcw_scATAC_filtered_peak_bc_atac.h5ad',\n",
       " 'GSM7119505_19pcw_scATAC_filtered_peak_bc_atac.h5ad',\n",
       " 'GSM7119507_23pcw_scATAC_filtered_peak_bc_atac.h5ad',\n",
       " 'GSM7119501_11pcw_r_scATAC_filtered_peak_bc_atac.h5ad',\n",
       " 'GSM7119509_26pcw_o_scATAC_filtered_peak_bc_atac.h5ad']"
      ]
     },
     "execution_count": 4,
     "metadata": {},
     "output_type": "execute_result"
    }
   ],
   "source": [
    "[i for i in os.listdir('./') if 'h5ad' in i]"
   ]
  },
  {
   "cell_type": "code",
   "execution_count": 45,
   "id": "8eae390f-cce5-48d4-8864-9a9e3ec06252",
   "metadata": {},
   "outputs": [],
   "source": [
    "adata_dict={}\n",
    "for name in [i for i in os.listdir('./') if 'h5ad' in i]:\n",
    "    adata_test=sc.read(name)\n",
    "    #adata_dict[name.split('_scATAC')[0]]=adata_test[:,adata_test.var['chrom']=='chr20']\n",
    "    adata_dict[name.split('_scATAC')[0]]=adata_test"
   ]
  },
  {
   "cell_type": "code",
   "execution_count": 46,
   "id": "3fc0b29d-021b-4ac1-8778-efdeb952244c",
   "metadata": {},
   "outputs": [],
   "source": [
    "peak_obj=ev.pp.ATAC_peaks(adata_dict,chr=list(set(adata_dict['GSM7119498_9pcw'].var['chrom'])),\n",
    "              ncpus=8,near_bp=500)"
   ]
  },
  {
   "cell_type": "code",
   "execution_count": 47,
   "id": "da55a91d-aa42-47f5-a7ea-59d477ce3340",
   "metadata": {},
   "outputs": [],
   "source": [
    "peak_obj.init()"
   ]
  },
  {
   "cell_type": "code",
   "execution_count": 13,
   "id": "ab54a13e-b49d-4c32-85cb-2af91eb66203",
   "metadata": {},
   "outputs": [
    {
     "name": "stdout",
     "output_type": "stream",
     "text": [
      "chr4\n",
      "chr5\n",
      "chrY\n",
      "chr17\n",
      "chr19\n",
      "chr21\n",
      "chr12\n",
      "chr10\n",
      "chrX\n",
      "chr8\n",
      "chr9\n",
      "chr14\n",
      "chr15\n",
      "chr3\n",
      "chr7\n",
      "chr18\n",
      "chr2\n",
      "chr20\n",
      "chr16\n",
      "chr13\n",
      "chr6\n",
      "chr22\n",
      "chr11\n",
      "chr1\n",
      "CPU times: user 52.6 s, sys: 58 s, total: 1min 50s\n",
      "Wall time: 46min 26s\n"
     ]
    },
    {
     "data": {
      "text/html": [
       "<div>\n",
       "<style scoped>\n",
       "    .dataframe tbody tr th:only-of-type {\n",
       "        vertical-align: middle;\n",
       "    }\n",
       "\n",
       "    .dataframe tbody tr th {\n",
       "        vertical-align: top;\n",
       "    }\n",
       "\n",
       "    .dataframe thead th {\n",
       "        text-align: right;\n",
       "    }\n",
       "</style>\n",
       "<table border=\"1\" class=\"dataframe\">\n",
       "  <thead>\n",
       "    <tr style=\"text-align: right;\">\n",
       "      <th></th>\n",
       "      <th>chrom</th>\n",
       "      <th>chromstart</th>\n",
       "      <th>chromend</th>\n",
       "      <th>range</th>\n",
       "      <th>range_s</th>\n",
       "      <th>median</th>\n",
       "      <th>new_peak</th>\n",
       "      <th>new_chrom</th>\n",
       "      <th>new_chromstart</th>\n",
       "      <th>new_chromend</th>\n",
       "    </tr>\n",
       "    <tr>\n",
       "      <th>peak</th>\n",
       "      <th></th>\n",
       "      <th></th>\n",
       "      <th></th>\n",
       "      <th></th>\n",
       "      <th></th>\n",
       "      <th></th>\n",
       "      <th></th>\n",
       "      <th></th>\n",
       "      <th></th>\n",
       "      <th></th>\n",
       "    </tr>\n",
       "  </thead>\n",
       "  <tbody>\n",
       "    <tr>\n",
       "      <th>chr4:10135-10199</th>\n",
       "      <td>chr4</td>\n",
       "      <td>10135</td>\n",
       "      <td>10199</td>\n",
       "      <td>64</td>\n",
       "      <td>32</td>\n",
       "      <td>10167</td>\n",
       "      <td>chr4:9942-10522</td>\n",
       "      <td>chr4</td>\n",
       "      <td>9942</td>\n",
       "      <td>10522</td>\n",
       "    </tr>\n",
       "    <tr>\n",
       "      <th>chr4:9967-10447</th>\n",
       "      <td>chr4</td>\n",
       "      <td>9967</td>\n",
       "      <td>10447</td>\n",
       "      <td>480</td>\n",
       "      <td>240</td>\n",
       "      <td>10207</td>\n",
       "      <td>chr4:9942-10522</td>\n",
       "      <td>chr4</td>\n",
       "      <td>9942</td>\n",
       "      <td>10522</td>\n",
       "    </tr>\n",
       "    <tr>\n",
       "      <th>chr4:9942-10522</th>\n",
       "      <td>chr4</td>\n",
       "      <td>9942</td>\n",
       "      <td>10522</td>\n",
       "      <td>580</td>\n",
       "      <td>290</td>\n",
       "      <td>10232</td>\n",
       "      <td>chr4:9942-10522</td>\n",
       "      <td>chr4</td>\n",
       "      <td>9942</td>\n",
       "      <td>10522</td>\n",
       "    </tr>\n",
       "    <tr>\n",
       "      <th>chr4:9890-10754</th>\n",
       "      <td>chr4</td>\n",
       "      <td>9890</td>\n",
       "      <td>10754</td>\n",
       "      <td>864</td>\n",
       "      <td>432</td>\n",
       "      <td>10322</td>\n",
       "      <td>chr4:9890-10754</td>\n",
       "      <td>chr4</td>\n",
       "      <td>9890</td>\n",
       "      <td>10754</td>\n",
       "    </tr>\n",
       "    <tr>\n",
       "      <th>chr4:10336-10868</th>\n",
       "      <td>chr4</td>\n",
       "      <td>10336</td>\n",
       "      <td>10868</td>\n",
       "      <td>532</td>\n",
       "      <td>266</td>\n",
       "      <td>10602</td>\n",
       "      <td>chr4:10336-10868</td>\n",
       "      <td>chr4</td>\n",
       "      <td>10336</td>\n",
       "      <td>10868</td>\n",
       "    </tr>\n",
       "    <tr>\n",
       "      <th>...</th>\n",
       "      <td>...</td>\n",
       "      <td>...</td>\n",
       "      <td>...</td>\n",
       "      <td>...</td>\n",
       "      <td>...</td>\n",
       "      <td>...</td>\n",
       "      <td>...</td>\n",
       "      <td>...</td>\n",
       "      <td>...</td>\n",
       "      <td>...</td>\n",
       "    </tr>\n",
       "    <tr>\n",
       "      <th>chr1:248945415-248946390</th>\n",
       "      <td>chr1</td>\n",
       "      <td>248945415</td>\n",
       "      <td>248946390</td>\n",
       "      <td>975</td>\n",
       "      <td>487</td>\n",
       "      <td>248945902</td>\n",
       "      <td>chr1:248944244-248946321</td>\n",
       "      <td>chr1</td>\n",
       "      <td>248944244</td>\n",
       "      <td>248946321</td>\n",
       "    </tr>\n",
       "    <tr>\n",
       "      <th>chr1:248945899-248945964</th>\n",
       "      <td>chr1</td>\n",
       "      <td>248945899</td>\n",
       "      <td>248945964</td>\n",
       "      <td>65</td>\n",
       "      <td>32</td>\n",
       "      <td>248945931</td>\n",
       "      <td>chr1:248944244-248946321</td>\n",
       "      <td>chr1</td>\n",
       "      <td>248944244</td>\n",
       "      <td>248946321</td>\n",
       "    </tr>\n",
       "    <tr>\n",
       "      <th>chr1:248945627-248946274</th>\n",
       "      <td>chr1</td>\n",
       "      <td>248945627</td>\n",
       "      <td>248946274</td>\n",
       "      <td>647</td>\n",
       "      <td>323</td>\n",
       "      <td>248945950</td>\n",
       "      <td>chr1:248945049-248946340</td>\n",
       "      <td>chr1</td>\n",
       "      <td>248945049</td>\n",
       "      <td>248946340</td>\n",
       "    </tr>\n",
       "    <tr>\n",
       "      <th>chr1:248945754-248946173</th>\n",
       "      <td>chr1</td>\n",
       "      <td>248945754</td>\n",
       "      <td>248946173</td>\n",
       "      <td>419</td>\n",
       "      <td>209</td>\n",
       "      <td>248945963</td>\n",
       "      <td>chr1:248945385-248946377</td>\n",
       "      <td>chr1</td>\n",
       "      <td>248945385</td>\n",
       "      <td>248946377</td>\n",
       "    </tr>\n",
       "    <tr>\n",
       "      <th>chr1:248945908-248946075</th>\n",
       "      <td>chr1</td>\n",
       "      <td>248945908</td>\n",
       "      <td>248946075</td>\n",
       "      <td>167</td>\n",
       "      <td>83</td>\n",
       "      <td>248945991</td>\n",
       "      <td>chr1:248945415-248946390</td>\n",
       "      <td>chr1</td>\n",
       "      <td>248945415</td>\n",
       "      <td>248946390</td>\n",
       "    </tr>\n",
       "  </tbody>\n",
       "</table>\n",
       "<p>1859354 rows × 10 columns</p>\n",
       "</div>"
      ],
      "text/plain": [
       "                         chrom  chromstart   chromend  range  range_s  \\\n",
       "peak                                                                    \n",
       "chr4:10135-10199          chr4       10135      10199     64       32   \n",
       "chr4:9967-10447           chr4        9967      10447    480      240   \n",
       "chr4:9942-10522           chr4        9942      10522    580      290   \n",
       "chr4:9890-10754           chr4        9890      10754    864      432   \n",
       "chr4:10336-10868          chr4       10336      10868    532      266   \n",
       "...                        ...         ...        ...    ...      ...   \n",
       "chr1:248945415-248946390  chr1   248945415  248946390    975      487   \n",
       "chr1:248945899-248945964  chr1   248945899  248945964     65       32   \n",
       "chr1:248945627-248946274  chr1   248945627  248946274    647      323   \n",
       "chr1:248945754-248946173  chr1   248945754  248946173    419      209   \n",
       "chr1:248945908-248946075  chr1   248945908  248946075    167       83   \n",
       "\n",
       "                             median                  new_peak new_chrom  \\\n",
       "peak                                                                      \n",
       "chr4:10135-10199              10167           chr4:9942-10522      chr4   \n",
       "chr4:9967-10447               10207           chr4:9942-10522      chr4   \n",
       "chr4:9942-10522               10232           chr4:9942-10522      chr4   \n",
       "chr4:9890-10754               10322           chr4:9890-10754      chr4   \n",
       "chr4:10336-10868              10602          chr4:10336-10868      chr4   \n",
       "...                             ...                       ...       ...   \n",
       "chr1:248945415-248946390  248945902  chr1:248944244-248946321      chr1   \n",
       "chr1:248945899-248945964  248945931  chr1:248944244-248946321      chr1   \n",
       "chr1:248945627-248946274  248945950  chr1:248945049-248946340      chr1   \n",
       "chr1:248945754-248946173  248945963  chr1:248945385-248946377      chr1   \n",
       "chr1:248945908-248946075  248945991  chr1:248945415-248946390      chr1   \n",
       "\n",
       "                          new_chromstart  new_chromend  \n",
       "peak                                                    \n",
       "chr4:10135-10199                    9942         10522  \n",
       "chr4:9967-10447                     9942         10522  \n",
       "chr4:9942-10522                     9942         10522  \n",
       "chr4:9890-10754                     9890         10754  \n",
       "chr4:10336-10868                   10336         10868  \n",
       "...                                  ...           ...  \n",
       "chr1:248945415-248946390       248944244     248946321  \n",
       "chr1:248945899-248945964       248944244     248946321  \n",
       "chr1:248945627-248946274       248945049     248946340  \n",
       "chr1:248945754-248946173       248945385     248946377  \n",
       "chr1:248945908-248946075       248945415     248946390  \n",
       "\n",
       "[1859354 rows x 10 columns]"
      ]
     },
     "execution_count": 13,
     "metadata": {},
     "output_type": "execute_result"
    }
   ],
   "source": [
    "%%time\n",
    "peak_obj.concat(batch=3)"
   ]
  },
  {
   "cell_type": "code",
   "execution_count": 15,
   "id": "64949ce9-7621-47ea-8fef-432bad468a34",
   "metadata": {},
   "outputs": [],
   "source": [
    "peak_obj.total_peak.to_csv('total_peaks.csv')"
   ]
  },
  {
   "cell_type": "code",
   "execution_count": 48,
   "id": "9d6326a4-8277-4d6e-89f5-2ad4651a7da7",
   "metadata": {},
   "outputs": [],
   "source": [
    "peak_obj.total_peak=pd.read_csv('total_peaks.csv',index_col=0)"
   ]
  },
  {
   "cell_type": "code",
   "execution_count": 35,
   "id": "15c9c222-8471-45b9-87c7-0801e531f0c7",
   "metadata": {},
   "outputs": [
    {
     "data": {
      "text/plain": [
       "AnnData object with n_obs × n_vars = 4218 × 111284\n",
       "    obs: 'sample'\n",
       "    var: 'chrom', 'chromstart', 'chromend'"
      ]
     },
     "execution_count": 35,
     "metadata": {},
     "output_type": "execute_result"
    }
   ],
   "source": [
    "peak_obj.adata_dict[adata_key]"
   ]
  },
  {
   "cell_type": "code",
   "execution_count": 36,
   "id": "29bc446e-2dde-4f7c-b4f1-f139cc5806c5",
   "metadata": {},
   "outputs": [
    {
     "data": {
      "text/plain": [
       "array(['chr1:9848-10638', 'chr1:180644-181583', 'chr1:189319-192043', ...,\n",
       "       'chrY:56849301-56849591', 'chrY:56850307-56851083',\n",
       "       'chrY:56873822-56873842'], dtype=object)"
      ]
     },
     "execution_count": 36,
     "metadata": {},
     "output_type": "execute_result"
    }
   ],
   "source": [
    "peak_obj.total_peak.loc[peak_obj.adata_dict[adata_key].var.index]['new_peak'].values"
   ]
  },
  {
   "cell_type": "code",
   "execution_count": 49,
   "id": "8bde885e-4c02-4f21-9499-642614c03fdd",
   "metadata": {},
   "outputs": [],
   "source": [
    "peak_obj.reindex(s=':-')"
   ]
  },
  {
   "cell_type": "code",
   "execution_count": null,
   "id": "396d4e8b-7da9-4dee-a756-f0bfa4810c00",
   "metadata": {},
   "outputs": [],
   "source": [
    "concat_adata=anndata.concat([adata1,adata2],join=\"outer\",fill_value=0)"
   ]
  },
  {
   "cell_type": "code",
   "execution_count": 50,
   "id": "4514d7d6-96cf-416b-8b78-c980b15ae767",
   "metadata": {},
   "outputs": [],
   "source": [
    "for adata_key in peak_obj.adata_dict.keys():\n",
    "    peak_obj.adata_dict[adata_key].var_names_make_unique()\n",
    "    #peak_obj.adata_dict[adata_key]=peak_obj.adata_dict[adata_key][:,[i for i in peak_obj.adata_dict[adata_key].var_names if '-' not in i]]"
   ]
  },
  {
   "cell_type": "code",
   "execution_count": 51,
   "id": "6482a715-5089-4d33-b0ba-467b5617f3e8",
   "metadata": {},
   "outputs": [
    {
     "data": {
      "text/plain": [
       "AnnData object with n_obs × n_vars = 4218 × 111284\n",
       "    obs: 'sample'\n",
       "    var: 'chrom', 'chromstart', 'chromend', 'old_peak', 'new_chrom', 'new_chromstart', 'new_chromend'"
      ]
     },
     "execution_count": 51,
     "metadata": {},
     "output_type": "execute_result"
    }
   ],
   "source": [
    "peak_obj.adata_dict[adata_key]"
   ]
  },
  {
   "cell_type": "code",
   "execution_count": 52,
   "id": "e30f9ca9-aabb-45ca-bfd6-d09d7183fda4",
   "metadata": {},
   "outputs": [
    {
     "data": {
      "text/plain": [
       "AnnData object with n_obs × n_vars = 70519 × 8208\n",
       "    obs: 'sample'\n",
       "    var: 'chrom', 'new_chrom', 'new_chromstart', 'new_chromend'"
      ]
     },
     "execution_count": 52,
     "metadata": {},
     "output_type": "execute_result"
    }
   ],
   "source": [
    "concat_adata1=peak_obj.merge(method='inner')\n",
    "concat_adata1"
   ]
  },
  {
   "cell_type": "code",
   "execution_count": 53,
   "id": "7de319b8-8669-4d2a-a496-e8f3125513ff",
   "metadata": {},
   "outputs": [
    {
     "data": {
      "text/plain": [
       "AnnData object with n_obs × n_vars = 70519 × 680193\n",
       "    obs: 'sample'"
      ]
     },
     "execution_count": 53,
     "metadata": {},
     "output_type": "execute_result"
    }
   ],
   "source": [
    "concat_adata2=peak_obj.merge(method='outer')\n",
    "concat_adata2"
   ]
  },
  {
   "cell_type": "code",
   "execution_count": 55,
   "id": "022f3b65-dce1-40b0-b7d7-1e34f1d36cc1",
   "metadata": {},
   "outputs": [],
   "source": [
    "split = concat_adata2.var.index.str.split(r\"[{}]\".format(':-'))\n",
    "concat_adata2.var[\"chrom\"] = split.map(lambda x: x[0])\n",
    "concat_adata2.var[\"chromstart\"] = split.map(lambda x: x[1]).astype(int)\n",
    "concat_adata2.var[\"chromend\"] = split.map(lambda x: x[2]).astype(int)"
   ]
  },
  {
   "cell_type": "code",
   "execution_count": 58,
   "id": "a426ca99-5bbb-414d-b7b3-1421e142139e",
   "metadata": {},
   "outputs": [],
   "source": [
    "concat_adata2.var['range']=[i-j for i,j in zip(concat_adata2.var[\"chromend\"],concat_adata2.var[\"chromstart\"]) ]"
   ]
  },
  {
   "cell_type": "code",
   "execution_count": 61,
   "id": "6a978e0f-2810-41ae-b90c-13d565555429",
   "metadata": {},
   "outputs": [
    {
     "data": {
      "text/plain": [
       "1351.9430338154025"
      ]
     },
     "execution_count": 61,
     "metadata": {},
     "output_type": "execute_result"
    }
   ],
   "source": [
    "np.mean(concat_adata2.var['range'])"
   ]
  },
  {
   "cell_type": "code",
   "execution_count": 62,
   "id": "49510240-1ae3-40f0-9bdf-6450d2ce777f",
   "metadata": {},
   "outputs": [
    {
     "data": {
      "text/plain": [
       "AnnData object with n_obs × n_vars = 70519 × 680193\n",
       "    obs: 'sample'\n",
       "    var: 'chrom', 'chromstart', 'chromend', 'range'"
      ]
     },
     "execution_count": 62,
     "metadata": {},
     "output_type": "execute_result"
    }
   ],
   "source": [
    "concat_adata2"
   ]
  },
  {
   "cell_type": "code",
   "execution_count": 63,
   "id": "1e0fb43d-b435-4b25-9611-95c6d5c3237f",
   "metadata": {},
   "outputs": [],
   "source": [
    "concat_adata2.write_h5ad('adata_atac_concat.h5ad',compression='gzip')"
   ]
  },
  {
   "cell_type": "code",
   "execution_count": 67,
   "id": "f6b22f63-d957-4fd7-923f-f6c1bae7510b",
   "metadata": {},
   "outputs": [],
   "source": [
    "concat_adata2=sc.read('adata_atac_concat.h5ad')"
   ]
  },
  {
   "cell_type": "code",
   "execution_count": 64,
   "id": "081bdc77-d0ff-4af6-9180-c7da37f924c4",
   "metadata": {},
   "outputs": [
    {
     "data": {
      "text/plain": [
       "3525.9500000000003"
      ]
     },
     "execution_count": 64,
     "metadata": {},
     "output_type": "execute_result"
    }
   ],
   "source": [
    "concat_adata2.shape[0]*0.05"
   ]
  },
  {
   "cell_type": "code",
   "execution_count": 68,
   "id": "87f1e2d3-c05d-4906-9380-37ce723caad3",
   "metadata": {},
   "outputs": [],
   "source": [
    "sc.pp.filter_genes(concat_adata2, min_cells = concat_adata2.shape[0]*0.01)"
   ]
  },
  {
   "cell_type": "code",
   "execution_count": 69,
   "id": "6a39f965-a315-4df3-b78a-56fcea5f01a1",
   "metadata": {},
   "outputs": [
    {
     "data": {
      "text/plain": [
       "AnnData object with n_obs × n_vars = 70519 × 113778\n",
       "    obs: 'sample'\n",
       "    var: 'chrom', 'chromstart', 'chromend', 'range', 'n_cells'"
      ]
     },
     "execution_count": 69,
     "metadata": {},
     "output_type": "execute_result"
    }
   ],
   "source": [
    "concat_adata2"
   ]
  },
  {
   "cell_type": "code",
   "execution_count": 71,
   "id": "ce87dc75-219c-4116-9cd1-37bc510f1ce7",
   "metadata": {},
   "outputs": [],
   "source": [
    "concat_adata2.write_h5ad('retina_atac_raw.h5ad',compression='gzip')"
   ]
  },
  {
   "cell_type": "code",
   "execution_count": null,
   "id": "dfb7f369-ca58-4e47-9bce-674b49c7a14c",
   "metadata": {},
   "outputs": [],
   "source": []
  }
 ],
 "metadata": {
  "kernelspec": {
   "display_name": "Python 3 (ipykernel)",
   "language": "python",
   "name": "python3"
  },
  "language_info": {
   "codemirror_mode": {
    "name": "ipython",
    "version": 3
   },
   "file_extension": ".py",
   "mimetype": "text/x-python",
   "name": "python",
   "nbconvert_exporter": "python",
   "pygments_lexer": "ipython3",
   "version": "3.8.12"
  }
 },
 "nbformat": 4,
 "nbformat_minor": 5
}
