{
 "cells": [
  {
   "cell_type": "markdown",
   "id": "da5e3f8b-085f-46d2-a81a-4bbb2a5f59e3",
   "metadata": {},
   "source": [
    "## Pseudobulk visualization\n",
    "\n",
    "Now we have all the ingredients we need to generate the pseudobulk files to compare the cell types. With this function we will generate fragments files per group and the corresponding bigwigs in general. \n",
    "\n",
    "Here, we prepared another function which use the matrix instead of fragments."
   ]
  },
  {
   "cell_type": "code",
   "execution_count": 1,
   "id": "c1a03b30-040c-4070-983c-9a6e9194e0ac",
   "metadata": {},
   "outputs": [
    {
     "name": "stderr",
     "output_type": "stream",
     "text": [
      "2023-08-30 13:51:33.416156: I tensorflow/core/platform/cpu_feature_guard.cc:193] This TensorFlow binary is optimized with oneAPI Deep Neural Network Library (oneDNN) to use the following CPU instructions in performance-critical operations:  AVX2 FMA\n",
      "To enable them in other operations, rebuild TensorFlow with the appropriate compiler flags.\n",
      "2023-08-30 13:51:38.975060: W tensorflow/compiler/xla/stream_executor/platform/default/dso_loader.cc:64] Could not load dynamic library 'libnvinfer.so.7'; dlerror: libnvinfer.so.7: cannot open shared object file: No such file or directory\n",
      "2023-08-30 13:51:38.976127: W tensorflow/compiler/xla/stream_executor/platform/default/dso_loader.cc:64] Could not load dynamic library 'libnvinfer_plugin.so.7'; dlerror: libnvinfer_plugin.so.7: cannot open shared object file: No such file or directory\n",
      "2023-08-30 13:51:38.976166: W tensorflow/compiler/tf2tensorrt/utils/py_utils.cc:38] TF-TRT Warning: Cannot dlopen some TensorRT libraries. If you would like to use Nvidia GPU with TensorRT, please make sure the missing libraries mentioned above are installed properly.\n"
     ]
    }
   ],
   "source": [
    "import omicverse as ov\n",
    "import scanpy as sc\n",
    "import Epiverse as ev\n",
    "ov.utils.ov_plot_set()"
   ]
  },
  {
   "cell_type": "markdown",
   "id": "5c495958-6ac3-41d6-9b90-8c6ae4f41f9d",
   "metadata": {},
   "source": [
    "## Load Data\n",
    "\n",
    "We recommend the use of scanpy Anndata objects as the preferred mode of loading and filtering data.\n",
    "\n",
    "A sample datset is available for download with the instructions listed below. This is a filtered, unnormalized counts of multiome dataset of CD34+ sorted bone marrow cells to profile human hematopoiesis [Dataset ref TBD]. \n",
    "\n",
    "Uncomment the following lines to download the sample dataset in a Unix-based system. For non-UNIX systems, download the files using the URL"
   ]
  },
  {
   "cell_type": "code",
   "execution_count": null,
   "id": "8ac58a42-a68e-4c1e-bbe7-705d0a692cdb",
   "metadata": {},
   "outputs": [],
   "source": [
    "# !mkdir data/\n",
    "# !wget https://dp-lab-data-public.s3.amazonaws.com/SEACells-multiome/cd34_multiome_atac.h5ad -O data/cd34_multiome_atac.h5ad # ATAC data"
   ]
  },
  {
   "cell_type": "code",
   "execution_count": 2,
   "id": "ea39f775-2300-442a-9161-1fd5ce2aa0fe",
   "metadata": {},
   "outputs": [
    {
     "data": {
      "text/plain": [
       "AnnData object with n_obs × n_vars = 6881 × 246113\n",
       "    obs: 'Sample', 'TSSEnrichment', 'ReadsInTSS', 'ReadsInPromoter', 'ReadsInBlacklist', 'PromoterRatio', 'PassQC', 'NucleosomeRatio', 'nMultiFrags', 'nMonoFrags', 'nFrags', 'nDiFrags', 'BlacklistRatio', 'Clusters', 'ReadsInPeaks', 'FRIP', 'leiden', 'phenograph', 'celltype', 'SEACell'\n",
       "    var: 'seqnames', 'start', 'end', 'width', 'strand', 'score', 'replicateScoreQuantile', 'groupScoreQuantile', 'Reproducibility', 'GroupReplicate', 'nearestGene', 'distToGeneStart', 'peakType', 'distToTSS', 'nearestTSS', 'GC', 'idx', 'peaktype', 'neargene'\n",
       "    uns: 'celltype_colors'\n",
       "    obsm: 'X_svd', 'X_umap'"
      ]
     },
     "execution_count": 2,
     "metadata": {},
     "output_type": "execute_result"
    }
   ],
   "source": [
    "adata=sc.read('cd34_multiome_atac_anno.h5ad')\n",
    "adata"
   ]
  },
  {
   "cell_type": "markdown",
   "id": "c4a9f0d7-4a67-434d-a5e3-fcce4091a1cc",
   "metadata": {},
   "source": [
    "We require peaks to be expressed in at least 0.01% of the cells."
   ]
  },
  {
   "cell_type": "code",
   "execution_count": 3,
   "id": "2ff80860-e651-4728-8dbb-13b5901c981d",
   "metadata": {},
   "outputs": [
    {
     "name": "stdout",
     "output_type": "stream",
     "text": [
      "filtered out 111070 genes that are detected in less than 68.81 cells\n"
     ]
    },
    {
     "data": {
      "text/plain": [
       "AnnData object with n_obs × n_vars = 6881 × 135043\n",
       "    obs: 'Sample', 'TSSEnrichment', 'ReadsInTSS', 'ReadsInPromoter', 'ReadsInBlacklist', 'PromoterRatio', 'PassQC', 'NucleosomeRatio', 'nMultiFrags', 'nMonoFrags', 'nFrags', 'nDiFrags', 'BlacklistRatio', 'Clusters', 'ReadsInPeaks', 'FRIP', 'leiden', 'phenograph', 'celltype', 'SEACell'\n",
       "    var: 'seqnames', 'start', 'end', 'width', 'strand', 'score', 'replicateScoreQuantile', 'groupScoreQuantile', 'Reproducibility', 'GroupReplicate', 'nearestGene', 'distToGeneStart', 'peakType', 'distToTSS', 'nearestTSS', 'GC', 'idx', 'peaktype', 'neargene', 'n_cells'\n",
       "    uns: 'celltype_colors'\n",
       "    obsm: 'X_svd', 'X_umap'"
      ]
     },
     "execution_count": 3,
     "metadata": {},
     "output_type": "execute_result"
    }
   ],
   "source": [
    "sc.pp.filter_genes(adata, min_cells = adata.shape[0]*0.01)\n",
    "adata"
   ]
  },
  {
   "cell_type": "markdown",
   "id": "cf092532-f54f-4635-b0a7-12b97467349a",
   "metadata": {},
   "source": [
    "## Load chromsizes\n",
    "\n",
    "In order to produce the bigwig files, we also need to know the overall size of the chromosomes. We can easily download this information from the UCSC."
   ]
  },
  {
   "cell_type": "code",
   "execution_count": 4,
   "id": "82556b23-ff3d-499e-bd0e-8d90aa92ec35",
   "metadata": {},
   "outputs": [],
   "source": [
    "# Get chromosome sizes (for hg38 here)\n",
    "import pyranges as pr\n",
    "import requests\n",
    "import pandas as pd\n",
    "target_url='http://hgdownload.cse.ucsc.edu/goldenPath/hg38/bigZips/hg38.chrom.sizes'\n",
    "chromsizes=pd.read_csv(target_url, sep='\\t', header=None)\n",
    "chromsizes.columns=['Chromosome', 'End']\n",
    "chromsizes['Start']=[0]*chromsizes.shape[0]\n",
    "chromsizes=chromsizes.loc[:,['Chromosome', 'Start', 'End']]\n",
    "# Exceptionally in this case, to agree with CellRangerARC annotations\n",
    "chromsizes['Chromosome'] = [chromsizes['Chromosome'][x].replace('v', '.') for x in range(len(chromsizes['Chromosome']))]\n",
    "chromsizes['Chromosome'] = [chromsizes['Chromosome'][x].split('_')[1] if len(chromsizes['Chromosome'][x].split('_')) > 1 else chromsizes['Chromosome'][x] for x in range(len(chromsizes['Chromosome']))]\n",
    "chromsizes=pr.PyRanges(chromsizes)"
   ]
  },
  {
   "cell_type": "markdown",
   "id": "78d228e9-9f52-42da-8857-e2bb118e8fc9",
   "metadata": {},
   "source": [
    "## Analysis the pseudobulk of each celltypes\n",
    "\n",
    "We provide the `ev.single.pseudobulk` function to get a bigwig file for each cell type from the matrix"
   ]
  },
  {
   "cell_type": "code",
   "execution_count": 5,
   "id": "774f7bb8-d15c-4321-a642-4e25e0c99e55",
   "metadata": {},
   "outputs": [
    {
     "name": "stdout",
     "output_type": "stream",
     "text": [
      "['HSC', 'MEP', 'Ery']\n",
      "HSC chr_value\n",
      "HSC chr_start\n",
      "HSC chr_end\n",
      "HSC Name\n",
      "HSC Score\n",
      "HSC write\n",
      "MEP chr_value\n",
      "MEP chr_start\n",
      "MEP chr_end\n",
      "MEP Name\n",
      "MEP Score\n",
      "MEP write\n",
      "Ery chr_value\n",
      "Ery chr_start\n",
      "Ery chr_end\n",
      "Ery Name\n",
      "Ery Score\n",
      "Ery write\n"
     ]
    }
   ],
   "source": [
    "ev.single.pseudobulk(adata,chromsizes,cluster_key='celltype',\n",
    "           clusters=['HSC','MEP','Ery'],\n",
    "           chr=['seqnames','start','end'],\n",
    "           bigwig_path='temp')"
   ]
  },
  {
   "cell_type": "markdown",
   "id": "33ddb60f-c0e5-4dfc-9552-c8c1bc89b746",
   "metadata": {},
   "source": [
    "## Visualization pseudobulk\n",
    "\n",
    "We can use the bigwig visualisation in the bulk step to analyse the pseudobulk generated by scATAC"
   ]
  },
  {
   "cell_type": "code",
   "execution_count": 14,
   "id": "b9075339-d85d-4664-9f5b-56a6c5e450fa",
   "metadata": {},
   "outputs": [
    {
     "name": "stdout",
     "output_type": "stream",
     "text": [
      "......Loading Ery\n",
      "......Loading HSC\n",
      "......Loading MEP\n"
     ]
    }
   ],
   "source": [
    "bw_dict={\n",
    "    'Ery':'temp/Ery.bw',\n",
    "    'HSC':'temp/HSC.bw',\n",
    "    'MEP':'temp/MEP.bw',\n",
    "}\n",
    "bw_obj=ev.bulk.bigwig(bw_dict)\n",
    "bw_obj.read()"
   ]
  },
  {
   "cell_type": "code",
   "execution_count": 15,
   "id": "674bb951-6333-4ac9-b569-9a330bb525ba",
   "metadata": {},
   "outputs": [],
   "source": [
    "color_dict=dict(zip(adata.obs['celltype'].cat.categories,adata.uns['celltype_colors']))"
   ]
  },
  {
   "cell_type": "markdown",
   "id": "14c84c4d-72b3-4570-9430-3c4e0a881e48",
   "metadata": {},
   "source": [
    "The gtf files could be downloaded from [gencode](https://www.gencodegenes.org/).\n",
    "\n",
    "Here, we using GRCh38 v43 to perfrom the annotation.\n"
   ]
  },
  {
   "cell_type": "code",
   "execution_count": null,
   "id": "14fe6362-8a85-42e9-bb25-c1ac73b324f6",
   "metadata": {},
   "outputs": [],
   "source": [
    "!wget ftp://ftp.ebi.ac.uk/pub/databases/gencode/Gencode_human/release_44/gencode.v44.basic.annotation.gtf.gz"
   ]
  },
  {
   "cell_type": "code",
   "execution_count": 17,
   "id": "8bf5a1c9-77ce-4820-bfef-92653cbe745d",
   "metadata": {},
   "outputs": [
    {
     "name": "stdout",
     "output_type": "stream",
     "text": [
      "......Loading gtf file\n"
     ]
    }
   ],
   "source": [
    "bw_obj.load_gtf('/mnt/home/zehuazeng/data/gtf/gencode.v43.basic.annotation.gtf')"
   ]
  },
  {
   "cell_type": "code",
   "execution_count": 20,
   "id": "6b463bc9-d83d-46fd-beee-ed2893924de8",
   "metadata": {},
   "outputs": [
    {
     "data": {
      "text/plain": [
       "(<Figure size 480x192 with 4 Axes>,\n",
       " array([<AxesSubplot: ylabel='Ery'>, <AxesSubplot: ylabel='HSC'>,\n",
       "        <AxesSubplot: ylabel='MEP'>, <AxesSubplot: >], dtype=object))"
      ]
     },
     "execution_count": 20,
     "metadata": {},
     "output_type": "execute_result"
    },
    {
     "data": {
      "image/png": "[encoded data removed]",
      "text/plain": [
       "<Figure size 480x192 with 4 Axes>"
      ]
     },
     "metadata": {
      "image/png": {
       "height": 187,
       "width": 462
      }
     },
     "output_type": "display_data"
    }
   ],
   "source": [
    "bw_obj.plot_track(chrom='chr3',chromstart=124200000,chromend=128600000,\n",
    "                  plot_names=['Ery','HSC','MEP'],figwidth=6,figheight=0.6,\n",
    "                  color_dict=color_dict,\n",
    "                  #region_dict=region_dict\n",
    "                 )"
   ]
  },
  {
   "cell_type": "code",
   "execution_count": null,
   "id": "545b4ad0-2ea8-473c-be39-536bcb7cd323",
   "metadata": {},
   "outputs": [],
   "source": []
  }
 ],
 "metadata": {
  "kernelspec": {
   "display_name": "Python 3 (ipykernel)",
   "language": "python",
   "name": "python3"
  },
  "language_info": {
   "codemirror_mode": {
    "name": "ipython",
    "version": 3
   },
   "file_extension": ".py",
   "mimetype": "text/x-python",
   "name": "python",
   "nbconvert_exporter": "python",
   "pygments_lexer": "ipython3",
   "version": "3.8.12"
  }
 },
 "nbformat": 4,
 "nbformat_minor": 5
}
