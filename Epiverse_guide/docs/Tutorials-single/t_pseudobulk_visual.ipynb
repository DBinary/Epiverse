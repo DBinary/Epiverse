{
 "cells": [
  {
   "cell_type": "markdown",
   "metadata": {
    "id": "da5e3f8b-085f-46d2-a81a-4bbb2a5f59e3"
   },
   "source": [
    "## Pseudobulk visualization\n",
    "\n",
    "Now we have all the ingredients we need to generate the pseudobulk files to compare the cell types. With this function we will generate fragments files per group and the corresponding bigwigs in general.\n",
    "\n",
    "Here, we prepared another function which use the matrix instead of fragments."
   ]
  },
  {
   "cell_type": "code",
   "execution_count": null,
   "metadata": {
    "colab": {
     "base_uri": "https://localhost:8080/"
    },
    "id": "eYsOBFx8TvEb",
    "outputId": "61474ee1-fb4b-4769-f04e-7d15c053aaeb"
   },
   "outputs": [
    {
     "name": "stdout",
     "output_type": "stream",
     "text": [
      "Cloning into 'Epiverse'...\n",
      "remote: Enumerating objects: 463, done.\u001b[K\n",
      "remote: Counting objects: 100% (52/52), done.\u001b[K\n",
      "remote: Compressing objects: 100% (42/42), done.\u001b[K\n",
      "remote: Total 463 (delta 23), reused 19 (delta 9), pack-reused 411\u001b[K\n",
      "Receiving objects: 100% (463/463), 6.14 MiB | 28.59 MiB/s, done.\n",
      "Resolving deltas: 100% (174/174), done.\n"
     ]
    }
   ],
   "source": [
    "!git clone https://github.com/DBinary/Epiverse.git"
   ]
  },
  {
   "cell_type": "code",
   "execution_count": null,
   "metadata": {
    "colab": {
     "base_uri": "https://localhost:8080/"
    },
    "id": "ZMSLZ2qQZ-mB",
    "outputId": "2a1c92b5-a918-4c88-a731-6aa12cde4ea0"
   },
   "outputs": [
    {
     "name": "stdout",
     "output_type": "stream",
     "text": [
      "Collecting pyranges\n",
      "  Downloading pyranges-0.0.129-py3-none-any.whl (1.5 MB)\n",
      "\u001b[2K     \u001b[90m━━━━━━━━━━━━━━━━━━━━━━━━━━━━━━━━━━━━━━━━\u001b[0m \u001b[32m1.5/1.5 MB\u001b[0m \u001b[31m15.5 MB/s\u001b[0m eta \u001b[36m0:00:00\u001b[0m\n",
      "\u001b[?25hRequirement already satisfied: pandas in /usr/local/lib/python3.10/dist-packages (from pyranges) (1.5.3)\n",
      "Collecting ncls>=0.0.63 (from pyranges)\n",
      "  Downloading ncls-0.0.68-cp310-cp310-manylinux_2_17_x86_64.manylinux2014_x86_64.whl (2.4 MB)\n",
      "\u001b[2K     \u001b[90m━━━━━━━━━━━━━━━━━━━━━━━━━━━━━━━━━━━━━━━━\u001b[0m \u001b[32m2.4/2.4 MB\u001b[0m \u001b[31m63.7 MB/s\u001b[0m eta \u001b[36m0:00:00\u001b[0m\n",
      "\u001b[?25hRequirement already satisfied: tabulate in /usr/local/lib/python3.10/dist-packages (from pyranges) (0.9.0)\n",
      "Collecting sorted-nearest>=0.0.33 (from pyranges)\n",
      "  Downloading sorted_nearest-0.0.39-cp310-cp310-manylinux_2_17_x86_64.manylinux2014_x86_64.whl (6.0 MB)\n",
      "\u001b[2K     \u001b[90m━━━━━━━━━━━━━━━━━━━━━━━━━━━━━━━━━━━━━━━━\u001b[0m \u001b[32m6.0/6.0 MB\u001b[0m \u001b[31m81.2 MB/s\u001b[0m eta \u001b[36m0:00:00\u001b[0m\n",
      "\u001b[?25hRequirement already satisfied: natsort in /usr/local/lib/python3.10/dist-packages (from pyranges) (8.4.0)\n",
      "Requirement already satisfied: numpy in /usr/local/lib/python3.10/dist-packages (from ncls>=0.0.63->pyranges) (1.23.5)\n",
      "Requirement already satisfied: python-dateutil>=2.8.1 in /usr/local/lib/python3.10/dist-packages (from pandas->pyranges) (2.8.2)\n",
      "Requirement already satisfied: pytz>=2020.1 in /usr/local/lib/python3.10/dist-packages (from pandas->pyranges) (2023.3.post1)\n",
      "Requirement already satisfied: six>=1.5 in /usr/local/lib/python3.10/dist-packages (from python-dateutil>=2.8.1->pandas->pyranges) (1.16.0)\n",
      "Installing collected packages: sorted-nearest, ncls, pyranges\n",
      "Successfully installed ncls-0.0.68 pyranges-0.0.129 sorted-nearest-0.0.39\n"
     ]
    }
   ],
   "source": [
    "!pip install pyranges"
   ]
  },
  {
   "cell_type": "code",
   "execution_count": 1,
   "metadata": {
    "id": "c1a03b30-040c-4070-983c-9a6e9194e0ac",
    "tags": []
   },
   "outputs": [
    {
     "name": "stdout",
     "output_type": "stream",
     "text": [
      "\n",
      "   ____            _     _    __                  \n",
      "  / __ \\____ ___  (_)___| |  / /__  _____________ \n",
      " / / / / __ `__ \\/ / ___/ | / / _ \\/ ___/ ___/ _ \\ \n",
      "/ /_/ / / / / / / / /__ | |/ /  __/ /  (__  )  __/ \n",
      "\\____/_/ /_/ /_/_/\\___/ |___/\\___/_/  /____/\\___/                                              \n",
      "\n",
      "Version: 1.5.8, Tutorials: https://omicverse.readthedocs.io/\n"
     ]
    }
   ],
   "source": [
    "import omicverse as ov\n",
    "import scanpy as sc\n",
    "import Epiverse as ev\n",
    "ov.plot_set()"
   ]
  },
  {
   "cell_type": "markdown",
   "metadata": {
    "id": "5c495958-6ac3-41d6-9b90-8c6ae4f41f9d"
   },
   "source": [
    "## Load Data\n",
    "\n",
    "We recommend the use of scanpy Anndata objects as the preferred mode of loading and filtering data.\n",
    "\n",
    "A sample datset is available for download with the instructions listed below. This is a filtered, unnormalized counts of multiome dataset of CD34+ sorted bone marrow cells to profile human hematopoiesis [Dataset ref TBD].\n",
    "\n",
    "Uncomment the following lines to download the sample dataset in a Unix-based system. For non-UNIX systems, download the files using the URL"
   ]
  },
  {
   "cell_type": "code",
   "execution_count": null,
   "metadata": {
    "colab": {
     "base_uri": "https://localhost:8080/"
    },
    "id": "8ac58a42-a68e-4c1e-bbe7-705d0a692cdb",
    "outputId": "da2201e2-61d8-4fe6-f4be-6d812c8851b4"
   },
   "outputs": [
    {
     "name": "stdout",
     "output_type": "stream",
     "text": [
      "--2023-09-08 15:37:03--  https://dp-lab-data-public.s3.amazonaws.com/SEACells-multiome/cd34_multiome_atac.h5ad\n",
      "Resolving dp-lab-data-public.s3.amazonaws.com (dp-lab-data-public.s3.amazonaws.com)... 3.5.25.253, 52.217.168.177, 54.231.137.225, ...\n",
      "Connecting to dp-lab-data-public.s3.amazonaws.com (dp-lab-data-public.s3.amazonaws.com)|3.5.25.253|:443... connected.\n",
      "HTTP request sent, awaiting response... 200 OK\n",
      "Length: 843871190 (805M) [binary/octet-stream]\n",
      "Saving to: ‘data/cd34_multiome_atac.h5ad’\n",
      "\n",
      "data/cd34_multiome_ 100%[===================>] 804.78M  34.3MB/s    in 26s     \n",
      "\n",
      "2023-09-08 15:37:29 (31.0 MB/s) - ‘data/cd34_multiome_atac.h5ad’ saved [843871190/843871190]\n",
      "\n",
      "--2023-09-08 15:37:29--  ftp://ftp.ncbi.nlm.nih.gov/geo/series/GSE200nnn/GSE200046/suppl/GSE200046_RAW.tar\n",
      "           => ‘data/GSE200046_RAW.tar’\n",
      "Resolving ftp.ncbi.nlm.nih.gov (ftp.ncbi.nlm.nih.gov)... 130.14.250.12, 130.14.250.10, 2607:f220:41e:250::7, ...\n",
      "Connecting to ftp.ncbi.nlm.nih.gov (ftp.ncbi.nlm.nih.gov)|130.14.250.12|:21... connected.\n",
      "Logging in as anonymous ... Logged in!\n",
      "==> SYST ... done.    ==> PWD ... done.\n",
      "==> TYPE I ... done.  ==> CWD (1) /geo/series/GSE200nnn/GSE200046/suppl ... done.\n",
      "==> SIZE GSE200046_RAW.tar ... 9667829760\n",
      "==> PASV ... done.    ==> RETR GSE200046_RAW.tar ... done.\n",
      "Length: 9667829760 (9.0G) (unauthoritative)\n",
      "\n",
      "GSE200046_RAW.tar   100%[===================>]   9.00G  91.0MB/s    in 95s     \n",
      "\n",
      "2023-09-08 15:39:04 (97.1 MB/s) - ‘data/GSE200046_RAW.tar’ saved [9667829760]\n",
      "\n",
      "GSM6005302_BM_CD34_Rep1_filtered_feature_bc_matrix.h5\n",
      "GSM6005303_BM_CD34_Rep1_atac_fragments.tsv.gz\n",
      "GSM6005304_BM_CD34_Rep2_filtered_feature_bc_matrix.h5\n",
      "GSM6005305_BM_CD34_Rep2_atac_fragments.tsv.gz\n",
      "GSM6005306_BM_Tcelldep_Rep1_filtered_feature_bc_matrix.h5\n",
      "GSM6005307_BM_Tcelldep_Rep1_atac_fragments.tsv.gz\n",
      "GSM6005308_BM_Tcelldep_Rep2_filtered_feature_bc_matrix.h5\n",
      "GSM6005309_BM_Tcelldep_Rep2_atac_fragments.tsv.gz\n"
     ]
    }
   ],
   "source": [
    "!mkdir data/\n",
    "!wget https://dp-lab-data-public.s3.amazonaws.com/SEACells-multiome/cd34_multiome_atac.h5ad -O data/cd34_multiome_atac.h5ad # ATAC data\n",
    "!wget ftp://ftp.ncbi.nlm.nih.gov/geo/series/GSE200nnn/GSE200046/suppl/GSE200046_RAW.tar -O data/GSE200046_RAW.tar\n",
    "!tar xvf data/GSE200046_RAW.tar"
   ]
  },
  {
   "cell_type": "code",
   "execution_count": 3,
   "metadata": {
    "colab": {
     "base_uri": "https://localhost:8080/"
    },
    "id": "ea39f775-2300-442a-9161-1fd5ce2aa0fe",
    "outputId": "5f49bcab-9ed7-492d-9e59-4e91ca7d3921",
    "tags": []
   },
   "outputs": [
    {
     "data": {
      "text/plain": [
       "AnnData object with n_obs × n_vars = 6881 × 246113\n",
       "    obs: 'Sample', 'TSSEnrichment', 'ReadsInTSS', 'ReadsInPromoter', 'ReadsInBlacklist', 'PromoterRatio', 'PassQC', 'NucleosomeRatio', 'nMultiFrags', 'nMonoFrags', 'nFrags', 'nDiFrags', 'BlacklistRatio', 'Clusters', 'ReadsInPeaks', 'FRIP', 'leiden', 'phenograph', 'celltype', 'SEACell'\n",
       "    var: 'seqnames', 'start', 'end', 'width', 'strand', 'score', 'replicateScoreQuantile', 'groupScoreQuantile', 'Reproducibility', 'GroupReplicate', 'nearestGene', 'distToGeneStart', 'peakType', 'distToTSS', 'nearestTSS', 'GC', 'idx'\n",
       "    uns: 'celltype_colors'\n",
       "    obsm: 'X_svd', 'X_umap'"
      ]
     },
     "execution_count": 3,
     "metadata": {},
     "output_type": "execute_result"
    }
   ],
   "source": [
    "adata=sc.read('data/cd34_multiome_atac.h5ad')\n",
    "adata"
   ]
  },
  {
   "cell_type": "markdown",
   "metadata": {
    "id": "c4a9f0d7-4a67-434d-a5e3-fcce4091a1cc"
   },
   "source": [
    "We require peaks to be expressed in at least 0.01% of the cells."
   ]
  },
  {
   "cell_type": "code",
   "execution_count": 4,
   "metadata": {
    "colab": {
     "base_uri": "https://localhost:8080/"
    },
    "id": "2ff80860-e651-4728-8dbb-13b5901c981d",
    "outputId": "7fe7a4f0-2940-4f23-9e1f-477f86b3dffb",
    "tags": []
   },
   "outputs": [
    {
     "name": "stdout",
     "output_type": "stream",
     "text": [
      "filtered out 760 genes that are detected in less than 6.881 cells\n"
     ]
    },
    {
     "data": {
      "text/plain": [
       "AnnData object with n_obs × n_vars = 6881 × 245353\n",
       "    obs: 'Sample', 'TSSEnrichment', 'ReadsInTSS', 'ReadsInPromoter', 'ReadsInBlacklist', 'PromoterRatio', 'PassQC', 'NucleosomeRatio', 'nMultiFrags', 'nMonoFrags', 'nFrags', 'nDiFrags', 'BlacklistRatio', 'Clusters', 'ReadsInPeaks', 'FRIP', 'leiden', 'phenograph', 'celltype', 'SEACell'\n",
       "    var: 'seqnames', 'start', 'end', 'width', 'strand', 'score', 'replicateScoreQuantile', 'groupScoreQuantile', 'Reproducibility', 'GroupReplicate', 'nearestGene', 'distToGeneStart', 'peakType', 'distToTSS', 'nearestTSS', 'GC', 'idx', 'n_cells'\n",
       "    uns: 'celltype_colors'\n",
       "    obsm: 'X_svd', 'X_umap'"
      ]
     },
     "execution_count": 4,
     "metadata": {},
     "output_type": "execute_result"
    }
   ],
   "source": [
    "sc.pp.filter_genes(adata, min_cells = adata.shape[0]*0.001)\n",
    "adata"
   ]
  },
  {
   "cell_type": "markdown",
   "metadata": {
    "id": "cf092532-f54f-4635-b0a7-12b97467349a"
   },
   "source": [
    "## Load chromsizes\n",
    "\n",
    "In order to produce the bigwig files, we also need to know the overall size of the chromosomes. We can easily download this information from the UCSC."
   ]
  },
  {
   "cell_type": "code",
   "execution_count": 5,
   "metadata": {
    "id": "82556b23-ff3d-499e-bd0e-8d90aa92ec35",
    "tags": []
   },
   "outputs": [],
   "source": [
    "# Get chromosome sizes (for hg38 here)\n",
    "import pyranges as pr\n",
    "import requests\n",
    "import pandas as pd\n",
    "target_url='http://hgdownload.cse.ucsc.edu/goldenPath/hg38/bigZips/hg38.chrom.sizes'\n",
    "chromsizes=pd.read_csv(target_url, sep='\\t', header=None)\n",
    "chromsizes.columns=['Chromosome', 'End']\n",
    "chromsizes['Start']=[0]*chromsizes.shape[0]\n",
    "chromsizes=chromsizes.loc[:,['Chromosome', 'Start', 'End']]\n",
    "# Exceptionally in this case, to agree with CellRangerARC annotations\n",
    "chromsizes['Chromosome'] = [chromsizes['Chromosome'][x].replace('v', '.') for x in range(len(chromsizes['Chromosome']))]\n",
    "chromsizes['Chromosome'] = [chromsizes['Chromosome'][x].split('_')[1] if len(chromsizes['Chromosome'][x].split('_')) > 1 else chromsizes['Chromosome'][x] for x in range(len(chromsizes['Chromosome']))]\n",
    "chromsizes=pr.PyRanges(chromsizes)"
   ]
  },
  {
   "cell_type": "markdown",
   "metadata": {
    "id": "78d228e9-9f52-42da-8857-e2bb118e8fc9"
   },
   "source": [
    "## Analysis the pseudobulk of each celltypes\n",
    "\n",
    "We provide the `ev.single.pseudobulk` function to get a bigwig file for each cell type from the matrix"
   ]
  },
  {
   "cell_type": "code",
   "execution_count": 5,
   "metadata": {
    "colab": {
     "base_uri": "https://localhost:8080/"
    },
    "id": "bJz30XfHepn0",
    "outputId": "fd55b696-2999-46c6-86e6-0af29d3efef4"
   },
   "outputs": [
    {
     "name": "stdout",
     "output_type": "stream",
     "text": [
      "Requirement already satisfied: pyrle in /usr/local/lib/python3.10/dist-packages (0.0.38)\n",
      "Requirement already satisfied: pandas in /usr/local/lib/python3.10/dist-packages (from pyrle) (1.5.3)\n",
      "Requirement already satisfied: tabulate in /usr/local/lib/python3.10/dist-packages (from pyrle) (0.9.0)\n",
      "Requirement already satisfied: numpy in /usr/local/lib/python3.10/dist-packages (from pyrle) (1.23.5)\n",
      "Requirement already satisfied: natsort in /usr/local/lib/python3.10/dist-packages (from pyrle) (8.4.0)\n",
      "Requirement already satisfied: python-dateutil>=2.8.1 in /usr/local/lib/python3.10/dist-packages (from pandas->pyrle) (2.8.2)\n",
      "Requirement already satisfied: pytz>=2020.1 in /usr/local/lib/python3.10/dist-packages (from pandas->pyrle) (2023.3.post1)\n",
      "Requirement already satisfied: six>=1.5 in /usr/local/lib/python3.10/dist-packages (from python-dateutil>=2.8.1->pandas->pyrle) (1.16.0)\n"
     ]
    }
   ],
   "source": [
    "!pip install pyrle"
   ]
  },
  {
   "cell_type": "code",
   "execution_count": 6,
   "metadata": {
    "colab": {
     "base_uri": "https://localhost:8080/"
    },
    "id": "774f7bb8-d15c-4321-a642-4e25e0c99e55",
    "outputId": "210aee3c-a1f9-4c09-c901-340a14a27c5c",
    "tags": []
   },
   "outputs": [
    {
     "name": "stdout",
     "output_type": "stream",
     "text": [
      "['cDC', 'pDC', 'CLP']\n"
     ]
    },
    {
     "name": "stderr",
     "output_type": "stream",
     "text": [
      "  0%|          | 0/3 [00:00<?, ?it/s]"
     ]
    },
    {
     "name": "stdout",
     "output_type": "stream",
     "text": [
      "cDC chr_value\n",
      "cDC chr_start\n",
      "cDC chr_end\n",
      "cDC Name\n",
      "cDC Score\n",
      "cDC write\n"
     ]
    },
    {
     "name": "stderr",
     "output_type": "stream",
     "text": [
      " 33%|███▎      | 1/3 [00:16<00:32, 16.02s/it]"
     ]
    },
    {
     "name": "stdout",
     "output_type": "stream",
     "text": [
      "pDC chr_value\n",
      "pDC chr_start\n",
      "pDC chr_end\n",
      "pDC Name\n",
      "pDC Score\n",
      "pDC write\n"
     ]
    },
    {
     "name": "stderr",
     "output_type": "stream",
     "text": [
      " 67%|██████▋   | 2/3 [00:46<00:24, 24.77s/it]"
     ]
    },
    {
     "name": "stdout",
     "output_type": "stream",
     "text": [
      "CLP chr_value\n",
      "CLP chr_start\n",
      "CLP chr_end\n",
      "CLP Name\n",
      "CLP Score\n",
      "CLP write\n"
     ]
    },
    {
     "name": "stderr",
     "output_type": "stream",
     "text": [
      "100%|██████████| 3/3 [01:31<00:00, 30.56s/it]\n"
     ]
    }
   ],
   "source": [
    "!mkdir temp\n",
    "ev.single.pseudobulk(adata,chromsizes,cluster_key='celltype',\n",
    "           clusters=['cDC','pDC','CLP'],size=1000,\n",
    "           chr=['seqnames','start','end'],\n",
    "           bigwig_path='temp')"
   ]
  },
  {
   "cell_type": "markdown",
   "metadata": {
    "id": "33ddb60f-c0e5-4dfc-9552-c8c1bc89b746"
   },
   "source": [
    "## Visualization pseudobulk\n",
    "\n",
    "We can use the bigwig visualisation in the bulk step to analyse the pseudobulk generated by scATAC"
   ]
  },
  {
   "cell_type": "code",
   "execution_count": 7,
   "metadata": {
    "colab": {
     "base_uri": "https://localhost:8080/"
    },
    "id": "b9075339-d85d-4664-9f5b-56a6c5e450fa",
    "outputId": "25828bf6-e003-4f87-d16c-0e20af042feb",
    "tags": []
   },
   "outputs": [
    {
     "name": "stdout",
     "output_type": "stream",
     "text": [
      "......Loading cDC\n",
      "......Loading pDC\n",
      "......Loading CLP\n"
     ]
    }
   ],
   "source": [
    "bw_dict={\n",
    "    'cDC':'temp/cDC.bw',\n",
    "    'pDC':'temp/pDC.bw',\n",
    "    'CLP':'temp/CLP.bw',\n",
    "}\n",
    "bw_obj=ev.bulk.bigwig(bw_dict)\n",
    "bw_obj.read()"
   ]
  },
  {
   "cell_type": "code",
   "execution_count": 8,
   "metadata": {
    "id": "674bb951-6333-4ac9-b569-9a330bb525ba",
    "tags": []
   },
   "outputs": [],
   "source": [
    "color_dict=dict(zip(adata.obs['celltype'].cat.categories,adata.uns['celltype_colors']))"
   ]
  },
  {
   "cell_type": "markdown",
   "metadata": {
    "id": "14c84c4d-72b3-4570-9430-3c4e0a881e48"
   },
   "source": [
    "The gtf files could be downloaded from [gencode](https://www.gencodegenes.org/).\n",
    "\n",
    "Here, we using GRCh38 v43 to perfrom the annotation.\n"
   ]
  },
  {
   "cell_type": "code",
   "execution_count": 9,
   "metadata": {
    "colab": {
     "base_uri": "https://localhost:8080/"
    },
    "id": "14fe6362-8a85-42e9-bb25-c1ac73b324f6",
    "outputId": "4c2a9293-4f6a-4496-ae39-dc31562e7272"
   },
   "outputs": [
    {
     "name": "stdout",
     "output_type": "stream",
     "text": [
      "--2023-09-08 16:21:45--  ftp://ftp.ebi.ac.uk/pub/databases/gencode/Gencode_human/release_44/gencode.v44.basic.annotation.gtf.gz\n",
      "           => ‘gencode.v44.basic.annotation.gtf.gz.1’\n",
      "Resolving ftp.ebi.ac.uk (ftp.ebi.ac.uk)... 193.62.193.165\n",
      "Connecting to ftp.ebi.ac.uk (ftp.ebi.ac.uk)|193.62.193.165|:21... connected.\n",
      "Logging in as anonymous ... Logged in!\n",
      "==> SYST ... done.    ==> PWD ... done.\n",
      "==> TYPE I ... done.  ==> CWD (1) /pub/databases/gencode/Gencode_human/release_44 ... done.\n",
      "==> SIZE gencode.v44.basic.annotation.gtf.gz ... 29570410\n",
      "==> PASV ... done.    ==> RETR gencode.v44.basic.annotation.gtf.gz ... done.\n",
      "Length: 29570410 (28M) (unauthoritative)\n",
      "\n",
      "gencode.v44.basic.a 100%[===================>]  28.20M  10.7MB/s    in 2.6s    \n",
      "\n",
      "2023-09-08 16:21:49 (10.7 MB/s) - ‘gencode.v44.basic.annotation.gtf.gz.1’ saved [29570410]\n",
      "\n"
     ]
    }
   ],
   "source": [
    "!wget ftp://ftp.ebi.ac.uk/pub/databases/gencode/Gencode_human/release_44/gencode.v44.basic.annotation.gtf.gz"
   ]
  },
  {
   "cell_type": "code",
   "execution_count": 9,
   "metadata": {
    "colab": {
     "base_uri": "https://localhost:8080/"
    },
    "id": "8bf5a1c9-77ce-4820-bfef-92653cbe745d",
    "outputId": "2dae9dda-4e20-404b-8e28-7fe6821ccc45",
    "tags": []
   },
   "outputs": [
    {
     "name": "stdout",
     "output_type": "stream",
     "text": [
      "......Loading gtf file\n"
     ]
    }
   ],
   "source": [
    "bw_obj.load_gtf('/mnt/home/zehuazeng/data/gtf/gencode.v43.basic.annotation.gtf')"
   ]
  },
  {
   "cell_type": "code",
   "execution_count": 14,
   "metadata": {
    "id": "zKCa0DFKrUQU",
    "tags": []
   },
   "outputs": [],
   "source": [
    "#BARX2: chr11:129,375,233-129,452,279\n",
    "region_dict={\n",
    "    'region1':[129375233, 129452279],\n",
    "}"
   ]
  },
  {
   "cell_type": "markdown",
   "metadata": {},
   "source": [
    "We prepared `ev.bulk.plotloc` to calculate the location automatically to peak visualization."
   ]
  },
  {
   "cell_type": "code",
   "execution_count": 11,
   "metadata": {
    "tags": []
   },
   "outputs": [],
   "source": [
    "loc_obj=ev.bulk.plotloc('chr11',129375233, 129452279)\n",
    "start1,end1=loc_obj.cal()"
   ]
  },
  {
   "cell_type": "markdown",
   "metadata": {},
   "source": [
    "`bw_obj.plot_track` is a very powerful function for visualising ATAC-seq. We provide quite a few parameters to be used as visualisation effect customisations.\n",
    "- chrom: the chromosome of region.\n",
    "- chromstart: the start position of region.\n",
    "- chromend: the end position of region.\n",
    "- nbins: the number of bins. default is 700\n",
    "- value_type: the type of value. Can be set as 'mean','max','min','coverage','std','sum'.\n",
    "- transform: the transform of value. Can be set as 'log','log2','log10','log1p','-log' or 'no'.\n",
    "- figwidth: the width of figure.\n",
    "- figheight: the height of figure.\n",
    "- plot_names: the name of bigwig file need to be plotted.\n",
    "- color_dict: the color of bigwig file need to be plotted.\n",
    "- region_dict: the region of interest.\n",
    "- gtf_color: the color of gtf. default is #000000\n",
    "- prefered_name: the prefered name of gtf. default is gene_id\n",
    "- jump_symbols: If the gene name contains characters within list, the text for that gene is not displayed.\n",
    "- ymax: Since there are differences in our bigwig files for each type of cell, we can specify the maximum value to ensure a high degree of consistency when visualising.\n",
    "- text_fontsize: the size of text in figures"
   ]
  },
  {
   "cell_type": "code",
   "execution_count": 19,
   "metadata": {
    "colab": {
     "base_uri": "https://localhost:8080/",
     "height": 257
    },
    "id": "6b463bc9-d83d-46fd-beee-ed2893924de8",
    "outputId": "857352f0-1159-4e5c-c07a-88847ce2499b",
    "tags": []
   },
   "outputs": [
    {
     "data": {
      "text/plain": [
       "(<Figure size 480x160 with 4 Axes>,\n",
       " array([<AxesSubplot: ylabel='cDC'>, <AxesSubplot: ylabel='pDC'>,\n",
       "        <AxesSubplot: ylabel='CLP'>, <AxesSubplot: >], dtype=object))"
      ]
     },
     "execution_count": 19,
     "metadata": {},
     "output_type": "execute_result"
    },
    {
     "data": {
      "image/png": "[encoded data removed]",
      "text/plain": [
       "<Figure size 480x160 with 4 Axes>"
      ]
     },
     "metadata": {
      "image/png": {
       "height": 148,
       "width": 414
      }
     },
     "output_type": "display_data"
    }
   ],
   "source": [
    "bw_obj.plot_track(chrom=loc_obj.chr,chromstart=start1,chromend=end1,\n",
    "                  plot_names=['cDC','pDC','CLP'],figwidth=6,figheight=1.5,\n",
    "                  color_dict=color_dict,\n",
    "                  region_dict=region_dict,\n",
    "                  #transform='log1p',\n",
    "                  jump_symbols=['ENSG','LINC'],\n",
    "                  prefered_name='gene_name',\n",
    "                  ymax=3,text_fontsize=10\n",
    "                 )"
   ]
  },
  {
   "cell_type": "markdown",
   "metadata": {
    "id": "7N5sG20hhYqX"
   },
   "source": [
    "## Visualization pseudobulk with fragment\n",
    "\n",
    "We can use the bigwig visualisation in the bulk step to analyse the pseudobulk generated by scATAC and fragment, the fragment files can help us generate th pseudobulk result accurately."
   ]
  },
  {
   "cell_type": "code",
   "execution_count": 12,
   "metadata": {
    "colab": {
     "base_uri": "https://localhost:8080/",
     "height": 423
    },
    "id": "VKe6UUjzlfbt",
    "outputId": "08dc3ea3-ebb0-4107-e525-0fac99e591df"
   },
   "outputs": [
    {
     "data": {
      "text/html": [
       "\n",
       "  <div id=\"df-b748d04c-6f2a-47dd-b4ec-37e2f8de31fe\" class=\"colab-df-container\">\n",
       "    <div>\n",
       "<style scoped>\n",
       "    .dataframe tbody tr th:only-of-type {\n",
       "        vertical-align: middle;\n",
       "    }\n",
       "\n",
       "    .dataframe tbody tr th {\n",
       "        vertical-align: top;\n",
       "    }\n",
       "\n",
       "    .dataframe thead th {\n",
       "        text-align: right;\n",
       "    }\n",
       "</style>\n",
       "<table border=\"1\" class=\"dataframe\">\n",
       "  <thead>\n",
       "    <tr style=\"text-align: right;\">\n",
       "      <th></th>\n",
       "      <th>chr1</th>\n",
       "      <th>10073</th>\n",
       "      <th>10327</th>\n",
       "      <th>CCGCACACAGAAATGC-1</th>\n",
       "      <th>1</th>\n",
       "    </tr>\n",
       "  </thead>\n",
       "  <tbody>\n",
       "    <tr>\n",
       "      <th>0</th>\n",
       "      <td>chr1</td>\n",
       "      <td>10084</td>\n",
       "      <td>10285</td>\n",
       "      <td>CCACAGGGTGAACAAA-1</td>\n",
       "      <td>1</td>\n",
       "    </tr>\n",
       "    <tr>\n",
       "      <th>1</th>\n",
       "      <td>chr1</td>\n",
       "      <td>10084</td>\n",
       "      <td>10340</td>\n",
       "      <td>TCTCCTCGTTAGGTTG-1</td>\n",
       "      <td>1</td>\n",
       "    </tr>\n",
       "    <tr>\n",
       "      <th>2</th>\n",
       "      <td>chr1</td>\n",
       "      <td>10085</td>\n",
       "      <td>10278</td>\n",
       "      <td>CTCGACAAGTGAGCGG-1</td>\n",
       "      <td>1</td>\n",
       "    </tr>\n",
       "    <tr>\n",
       "      <th>3</th>\n",
       "      <td>chr1</td>\n",
       "      <td>10085</td>\n",
       "      <td>10320</td>\n",
       "      <td>AGTTATGTCGGTTTCC-1</td>\n",
       "      <td>2</td>\n",
       "    </tr>\n",
       "    <tr>\n",
       "      <th>4</th>\n",
       "      <td>chr1</td>\n",
       "      <td>10085</td>\n",
       "      <td>10327</td>\n",
       "      <td>CTTCAATTCGTTTCGC-1</td>\n",
       "      <td>5</td>\n",
       "    </tr>\n",
       "    <tr>\n",
       "      <th>...</th>\n",
       "      <td>...</td>\n",
       "      <td>...</td>\n",
       "      <td>...</td>\n",
       "      <td>...</td>\n",
       "      <td>...</td>\n",
       "    </tr>\n",
       "    <tr>\n",
       "      <th>200568152</th>\n",
       "      <td>KI270713.1</td>\n",
       "      <td>37661</td>\n",
       "      <td>37875</td>\n",
       "      <td>TGAGCTTAGGCTGGCT-1</td>\n",
       "      <td>1</td>\n",
       "    </tr>\n",
       "    <tr>\n",
       "      <th>200568153</th>\n",
       "      <td>KI270713.1</td>\n",
       "      <td>37663</td>\n",
       "      <td>37882</td>\n",
       "      <td>TCAGCAAGTCATGCCC-1</td>\n",
       "      <td>1</td>\n",
       "    </tr>\n",
       "    <tr>\n",
       "      <th>200568154</th>\n",
       "      <td>KI270713.1</td>\n",
       "      <td>38991</td>\n",
       "      <td>39208</td>\n",
       "      <td>CGATTCCTCAGGTTTA-1</td>\n",
       "      <td>3</td>\n",
       "    </tr>\n",
       "    <tr>\n",
       "      <th>200568155</th>\n",
       "      <td>KI270713.1</td>\n",
       "      <td>39071</td>\n",
       "      <td>39228</td>\n",
       "      <td>GTGCACGGTCACCTAT-1</td>\n",
       "      <td>1</td>\n",
       "    </tr>\n",
       "    <tr>\n",
       "      <th>200568156</th>\n",
       "      <td>KI270713.1</td>\n",
       "      <td>40664</td>\n",
       "      <td>40709</td>\n",
       "      <td>TCGTGCTTCTAATCCT-1</td>\n",
       "      <td>1</td>\n",
       "    </tr>\n",
       "  </tbody>\n",
       "</table>\n",
       "<p>200568157 rows × 5 columns</p>\n",
       "</div>\n",
       "    <div class=\"colab-df-buttons\">\n",
       "\n",
       "  <div class=\"colab-df-container\">\n",
       "    <button class=\"colab-df-convert\" onclick=\"convertToInteractive('df-b748d04c-6f2a-47dd-b4ec-37e2f8de31fe')\"\n",
       "            title=\"Convert this dataframe to an interactive table.\"\n",
       "            style=\"display:none;\">\n",
       "\n",
       "  <svg xmlns=\"http://www.w3.org/2000/svg\" height=\"24px\" viewBox=\"0 -960 960 960\">\n",
       "    <path d=\"M120-120v-720h720v720H120Zm60-500h600v-160H180v160Zm220 220h160v-160H400v160Zm0 220h160v-160H400v160ZM180-400h160v-160H180v160Zm440 0h160v-160H620v160ZM180-180h160v-160H180v160Zm440 0h160v-160H620v160Z\"/>\n",
       "  </svg>\n",
       "    </button>\n",
       "\n",
       "  <style>\n",
       "    .colab-df-container {\n",
       "      display:flex;\n",
       "      gap: 12px;\n",
       "    }\n",
       "\n",
       "    .colab-df-convert {\n",
       "      background-color: #E8F0FE;\n",
       "      border: none;\n",
       "      border-radius: 50%;\n",
       "      cursor: pointer;\n",
       "      display: none;\n",
       "      fill: #1967D2;\n",
       "      height: 32px;\n",
       "      padding: 0 0 0 0;\n",
       "      width: 32px;\n",
       "    }\n",
       "\n",
       "    .colab-df-convert:hover {\n",
       "      background-color: #E2EBFA;\n",
       "      box-shadow: 0px 1px 2px rgba(60, 64, 67, 0.3), 0px 1px 3px 1px rgba(60, 64, 67, 0.15);\n",
       "      fill: #174EA6;\n",
       "    }\n",
       "\n",
       "    .colab-df-buttons div {\n",
       "      margin-bottom: 4px;\n",
       "    }\n",
       "\n",
       "    [theme=dark] .colab-df-convert {\n",
       "      background-color: #3B4455;\n",
       "      fill: #D2E3FC;\n",
       "    }\n",
       "\n",
       "    [theme=dark] .colab-df-convert:hover {\n",
       "      background-color: #434B5C;\n",
       "      box-shadow: 0px 1px 3px 1px rgba(0, 0, 0, 0.15);\n",
       "      filter: drop-shadow(0px 1px 2px rgba(0, 0, 0, 0.3));\n",
       "      fill: #FFFFFF;\n",
       "    }\n",
       "  </style>\n",
       "\n",
       "    <script>\n",
       "      const buttonEl =\n",
       "        document.querySelector('#df-b748d04c-6f2a-47dd-b4ec-37e2f8de31fe button.colab-df-convert');\n",
       "      buttonEl.style.display =\n",
       "        google.colab.kernel.accessAllowed ? 'block' : 'none';\n",
       "\n",
       "      async function convertToInteractive(key) {\n",
       "        const element = document.querySelector('#df-b748d04c-6f2a-47dd-b4ec-37e2f8de31fe');\n",
       "        const dataTable =\n",
       "          await google.colab.kernel.invokeFunction('convertToInteractive',\n",
       "                                                    [key], {});\n",
       "        if (!dataTable) return;\n",
       "\n",
       "        const docLinkHtml = 'Like what you see? Visit the ' +\n",
       "          '<a target=\"_blank\" href=https://colab.research.google.com/notebooks/data_table.ipynb>data table notebook</a>'\n",
       "          + ' to learn more about interactive tables.';\n",
       "        element.innerHTML = '';\n",
       "        dataTable['output_type'] = 'display_data';\n",
       "        await google.colab.output.renderOutput(dataTable, element);\n",
       "        const docLink = document.createElement('div');\n",
       "        docLink.innerHTML = docLinkHtml;\n",
       "        element.appendChild(docLink);\n",
       "      }\n",
       "    </script>\n",
       "  </div>\n",
       "\n",
       "\n",
       "<div id=\"df-bb7ef091-b65b-449f-92e2-957c0ebfa234\">\n",
       "  <button class=\"colab-df-quickchart\" onclick=\"quickchart('df-bb7ef091-b65b-449f-92e2-957c0ebfa234')\"\n",
       "            title=\"Suggest charts.\"\n",
       "            style=\"display:none;\">\n",
       "\n",
       "<svg xmlns=\"http://www.w3.org/2000/svg\" height=\"24px\"viewBox=\"0 0 24 24\"\n",
       "     width=\"24px\">\n",
       "    <g>\n",
       "        <path d=\"M19 3H5c-1.1 0-2 .9-2 2v14c0 1.1.9 2 2 2h14c1.1 0 2-.9 2-2V5c0-1.1-.9-2-2-2zM9 17H7v-7h2v7zm4 0h-2V7h2v10zm4 0h-2v-4h2v4z\"/>\n",
       "    </g>\n",
       "</svg>\n",
       "  </button>\n",
       "\n",
       "<style>\n",
       "  .colab-df-quickchart {\n",
       "      --bg-color: #E8F0FE;\n",
       "      --fill-color: #1967D2;\n",
       "      --hover-bg-color: #E2EBFA;\n",
       "      --hover-fill-color: #174EA6;\n",
       "      --disabled-fill-color: #AAA;\n",
       "      --disabled-bg-color: #DDD;\n",
       "  }\n",
       "\n",
       "  [theme=dark] .colab-df-quickchart {\n",
       "      --bg-color: #3B4455;\n",
       "      --fill-color: #D2E3FC;\n",
       "      --hover-bg-color: #434B5C;\n",
       "      --hover-fill-color: #FFFFFF;\n",
       "      --disabled-bg-color: #3B4455;\n",
       "      --disabled-fill-color: #666;\n",
       "  }\n",
       "\n",
       "  .colab-df-quickchart {\n",
       "    background-color: var(--bg-color);\n",
       "    border: none;\n",
       "    border-radius: 50%;\n",
       "    cursor: pointer;\n",
       "    display: none;\n",
       "    fill: var(--fill-color);\n",
       "    height: 32px;\n",
       "    padding: 0;\n",
       "    width: 32px;\n",
       "  }\n",
       "\n",
       "  .colab-df-quickchart:hover {\n",
       "    background-color: var(--hover-bg-color);\n",
       "    box-shadow: 0 1px 2px rgba(60, 64, 67, 0.3), 0 1px 3px 1px rgba(60, 64, 67, 0.15);\n",
       "    fill: var(--button-hover-fill-color);\n",
       "  }\n",
       "\n",
       "  .colab-df-quickchart-complete:disabled,\n",
       "  .colab-df-quickchart-complete:disabled:hover {\n",
       "    background-color: var(--disabled-bg-color);\n",
       "    fill: var(--disabled-fill-color);\n",
       "    box-shadow: none;\n",
       "  }\n",
       "\n",
       "  .colab-df-spinner {\n",
       "    border: 2px solid var(--fill-color);\n",
       "    border-color: transparent;\n",
       "    border-bottom-color: var(--fill-color);\n",
       "    animation:\n",
       "      spin 1s steps(1) infinite;\n",
       "  }\n",
       "\n",
       "  @keyframes spin {\n",
       "    0% {\n",
       "      border-color: transparent;\n",
       "      border-bottom-color: var(--fill-color);\n",
       "      border-left-color: var(--fill-color);\n",
       "    }\n",
       "    20% {\n",
       "      border-color: transparent;\n",
       "      border-left-color: var(--fill-color);\n",
       "      border-top-color: var(--fill-color);\n",
       "    }\n",
       "    30% {\n",
       "      border-color: transparent;\n",
       "      border-left-color: var(--fill-color);\n",
       "      border-top-color: var(--fill-color);\n",
       "      border-right-color: var(--fill-color);\n",
       "    }\n",
       "    40% {\n",
       "      border-color: transparent;\n",
       "      border-right-color: var(--fill-color);\n",
       "      border-top-color: var(--fill-color);\n",
       "    }\n",
       "    60% {\n",
       "      border-color: transparent;\n",
       "      border-right-color: var(--fill-color);\n",
       "    }\n",
       "    80% {\n",
       "      border-color: transparent;\n",
       "      border-right-color: var(--fill-color);\n",
       "      border-bottom-color: var(--fill-color);\n",
       "    }\n",
       "    90% {\n",
       "      border-color: transparent;\n",
       "      border-bottom-color: var(--fill-color);\n",
       "    }\n",
       "  }\n",
       "</style>\n",
       "\n",
       "  <script>\n",
       "    async function quickchart(key) {\n",
       "      const quickchartButtonEl =\n",
       "        document.querySelector('#' + key + ' button');\n",
       "      quickchartButtonEl.disabled = true;  // To prevent multiple clicks.\n",
       "      quickchartButtonEl.classList.add('colab-df-spinner');\n",
       "      try {\n",
       "        const charts = await google.colab.kernel.invokeFunction(\n",
       "            'suggestCharts', [key], {});\n",
       "      } catch (error) {\n",
       "        console.error('Error during call to suggestCharts:', error);\n",
       "      }\n",
       "      quickchartButtonEl.classList.remove('colab-df-spinner');\n",
       "      quickchartButtonEl.classList.add('colab-df-quickchart-complete');\n",
       "    }\n",
       "    (() => {\n",
       "      let quickchartButtonEl =\n",
       "        document.querySelector('#df-bb7ef091-b65b-449f-92e2-957c0ebfa234 button');\n",
       "      quickchartButtonEl.style.display =\n",
       "        google.colab.kernel.accessAllowed ? 'block' : 'none';\n",
       "    })();\n",
       "  </script>\n",
       "</div>\n",
       "    </div>\n",
       "  </div>\n"
      ],
      "text/plain": [
       "                 chr1  10073  10327  CCGCACACAGAAATGC-1  1\n",
       "0                chr1  10084  10285  CCACAGGGTGAACAAA-1  1\n",
       "1                chr1  10084  10340  TCTCCTCGTTAGGTTG-1  1\n",
       "2                chr1  10085  10278  CTCGACAAGTGAGCGG-1  1\n",
       "3                chr1  10085  10320  AGTTATGTCGGTTTCC-1  2\n",
       "4                chr1  10085  10327  CTTCAATTCGTTTCGC-1  5\n",
       "...               ...    ...    ...                 ... ..\n",
       "200568152  KI270713.1  37661  37875  TGAGCTTAGGCTGGCT-1  1\n",
       "200568153  KI270713.1  37663  37882  TCAGCAAGTCATGCCC-1  1\n",
       "200568154  KI270713.1  38991  39208  CGATTCCTCAGGTTTA-1  3\n",
       "200568155  KI270713.1  39071  39228  GTGCACGGTCACCTAT-1  1\n",
       "200568156  KI270713.1  40664  40709  TCGTGCTTCTAATCCT-1  1\n",
       "\n",
       "[200568157 rows x 5 columns]"
      ]
     },
     "execution_count": 12,
     "metadata": {},
     "output_type": "execute_result"
    }
   ],
   "source": [
    "import pandas as pd\n",
    "fragment_2 = pd.read_csv('/content/GSM6005305_BM_CD34_Rep2_atac_fragments.tsv.gz',sep='\\t')\n",
    "fragment_2"
   ]
  },
  {
   "cell_type": "code",
   "execution_count": 13,
   "metadata": {
    "id": "izcz7xZ9BmzS"
   },
   "outputs": [],
   "source": [
    "adata.obs['barcode']=adata.obs.index\n",
    "for i in adata.obs.index:\n",
    "    adata.obs.loc[i,'barcode'] = adata.obs.loc[i,'barcode'].split('#')[1]\n",
    "adata.obs.index = adata.obs['barcode']"
   ]
  },
  {
   "cell_type": "code",
   "execution_count": 14,
   "metadata": {
    "colab": {
     "base_uri": "https://localhost:8080/",
     "height": 631
    },
    "id": "VAevo_vFCn59",
    "outputId": "bcb1f46f-cba2-4179-eec1-8bb0e0a50094"
   },
   "outputs": [
    {
     "data": {
      "text/html": [
       "\n",
       "  <div id=\"df-5d316663-583d-4003-9f7e-d4e697eb6539\" class=\"colab-df-container\">\n",
       "    <div>\n",
       "<style scoped>\n",
       "    .dataframe tbody tr th:only-of-type {\n",
       "        vertical-align: middle;\n",
       "    }\n",
       "\n",
       "    .dataframe tbody tr th {\n",
       "        vertical-align: top;\n",
       "    }\n",
       "\n",
       "    .dataframe thead th {\n",
       "        text-align: right;\n",
       "    }\n",
       "</style>\n",
       "<table border=\"1\" class=\"dataframe\">\n",
       "  <thead>\n",
       "    <tr style=\"text-align: right;\">\n",
       "      <th></th>\n",
       "      <th>Sample</th>\n",
       "      <th>TSSEnrichment</th>\n",
       "      <th>ReadsInTSS</th>\n",
       "      <th>ReadsInPromoter</th>\n",
       "      <th>ReadsInBlacklist</th>\n",
       "      <th>PromoterRatio</th>\n",
       "      <th>PassQC</th>\n",
       "      <th>NucleosomeRatio</th>\n",
       "      <th>nMultiFrags</th>\n",
       "      <th>nMonoFrags</th>\n",
       "      <th>...</th>\n",
       "      <th>BlacklistRatio</th>\n",
       "      <th>Clusters</th>\n",
       "      <th>ReadsInPeaks</th>\n",
       "      <th>FRIP</th>\n",
       "      <th>leiden</th>\n",
       "      <th>phenograph</th>\n",
       "      <th>celltype</th>\n",
       "      <th>SEACell</th>\n",
       "      <th>barcode</th>\n",
       "      <th>type</th>\n",
       "    </tr>\n",
       "    <tr>\n",
       "      <th>barcode</th>\n",
       "      <th></th>\n",
       "      <th></th>\n",
       "      <th></th>\n",
       "      <th></th>\n",
       "      <th></th>\n",
       "      <th></th>\n",
       "      <th></th>\n",
       "      <th></th>\n",
       "      <th></th>\n",
       "      <th></th>\n",
       "      <th></th>\n",
       "      <th></th>\n",
       "      <th></th>\n",
       "      <th></th>\n",
       "      <th></th>\n",
       "      <th></th>\n",
       "      <th></th>\n",
       "      <th></th>\n",
       "      <th></th>\n",
       "      <th></th>\n",
       "      <th></th>\n",
       "    </tr>\n",
       "  </thead>\n",
       "  <tbody>\n",
       "    <tr>\n",
       "      <th>AAACAGCCACTCGCTC-1</th>\n",
       "      <td>cd34_multiome_rep1</td>\n",
       "      <td>10.131</td>\n",
       "      <td>6559</td>\n",
       "      <td>7086</td>\n",
       "      <td>227</td>\n",
       "      <td>0.186062</td>\n",
       "      <td>1</td>\n",
       "      <td>1.015666</td>\n",
       "      <td>2757</td>\n",
       "      <td>9447</td>\n",
       "      <td>...</td>\n",
       "      <td>0.005961</td>\n",
       "      <td>C8</td>\n",
       "      <td>12388</td>\n",
       "      <td>0.654204</td>\n",
       "      <td>3</td>\n",
       "      <td>5</td>\n",
       "      <td>HMP</td>\n",
       "      <td>cd34_multiome_rep1#AAACAGCCACTCGCTC-1</td>\n",
       "      <td>AAACAGCCACTCGCTC-1</td>\n",
       "      <td>cd34_multiome_rep2</td>\n",
       "    </tr>\n",
       "    <tr>\n",
       "      <th>AAACAGCCACTGACCG-1</th>\n",
       "      <td>cd34_multiome_rep1</td>\n",
       "      <td>9.216</td>\n",
       "      <td>6381</td>\n",
       "      <td>7340</td>\n",
       "      <td>239</td>\n",
       "      <td>0.154260</td>\n",
       "      <td>1</td>\n",
       "      <td>1.373404</td>\n",
       "      <td>3747</td>\n",
       "      <td>10024</td>\n",
       "      <td>...</td>\n",
       "      <td>0.005023</td>\n",
       "      <td>C13</td>\n",
       "      <td>12880</td>\n",
       "      <td>0.639777</td>\n",
       "      <td>0</td>\n",
       "      <td>2</td>\n",
       "      <td>DCPre</td>\n",
       "      <td>cd34_multiome_rep1#TTGCAGCCAGGCGATA-1</td>\n",
       "      <td>AAACAGCCACTGACCG-1</td>\n",
       "      <td>cd34_multiome_rep2</td>\n",
       "    </tr>\n",
       "    <tr>\n",
       "      <th>AAACAGCCATAATCAC-1</th>\n",
       "      <td>cd34_multiome_rep1</td>\n",
       "      <td>11.886</td>\n",
       "      <td>5264</td>\n",
       "      <td>5476</td>\n",
       "      <td>143</td>\n",
       "      <td>0.222638</td>\n",
       "      <td>1</td>\n",
       "      <td>1.149624</td>\n",
       "      <td>1899</td>\n",
       "      <td>5721</td>\n",
       "      <td>...</td>\n",
       "      <td>0.005814</td>\n",
       "      <td>C5</td>\n",
       "      <td>8390</td>\n",
       "      <td>0.731218</td>\n",
       "      <td>5</td>\n",
       "      <td>0</td>\n",
       "      <td>HSC</td>\n",
       "      <td>cd34_multiome_rep1#TACAGCTAGTAATCCA-1</td>\n",
       "      <td>AAACAGCCATAATCAC-1</td>\n",
       "      <td>cd34_multiome_rep2</td>\n",
       "    </tr>\n",
       "    <tr>\n",
       "      <th>AAACATGCAAATTCGT-1</th>\n",
       "      <td>cd34_multiome_rep1</td>\n",
       "      <td>12.290</td>\n",
       "      <td>7994</td>\n",
       "      <td>8203</td>\n",
       "      <td>214</td>\n",
       "      <td>0.231266</td>\n",
       "      <td>1</td>\n",
       "      <td>1.431784</td>\n",
       "      <td>3004</td>\n",
       "      <td>7293</td>\n",
       "      <td>...</td>\n",
       "      <td>0.006033</td>\n",
       "      <td>C5</td>\n",
       "      <td>10992</td>\n",
       "      <td>0.749591</td>\n",
       "      <td>4</td>\n",
       "      <td>0</td>\n",
       "      <td>HSC</td>\n",
       "      <td>cd34_multiome_rep2#TAACCTAAGGATTGAG-1</td>\n",
       "      <td>AAACATGCAAATTCGT-1</td>\n",
       "      <td>cd34_multiome_rep2</td>\n",
       "    </tr>\n",
       "    <tr>\n",
       "      <th>AAACATGCAGCATGTC-1</th>\n",
       "      <td>cd34_multiome_rep1</td>\n",
       "      <td>9.746</td>\n",
       "      <td>8067</td>\n",
       "      <td>8928</td>\n",
       "      <td>293</td>\n",
       "      <td>0.168218</td>\n",
       "      <td>1</td>\n",
       "      <td>1.517742</td>\n",
       "      <td>4481</td>\n",
       "      <td>10540</td>\n",
       "      <td>...</td>\n",
       "      <td>0.005521</td>\n",
       "      <td>C1</td>\n",
       "      <td>13298</td>\n",
       "      <td>0.627383</td>\n",
       "      <td>7</td>\n",
       "      <td>6</td>\n",
       "      <td>Ery</td>\n",
       "      <td>cd34_multiome_rep1#TAGCGGCTCATTATGG-1</td>\n",
       "      <td>AAACATGCAGCATGTC-1</td>\n",
       "      <td>cd34_multiome_rep2</td>\n",
       "    </tr>\n",
       "    <tr>\n",
       "      <th>...</th>\n",
       "      <td>...</td>\n",
       "      <td>...</td>\n",
       "      <td>...</td>\n",
       "      <td>...</td>\n",
       "      <td>...</td>\n",
       "      <td>...</td>\n",
       "      <td>...</td>\n",
       "      <td>...</td>\n",
       "      <td>...</td>\n",
       "      <td>...</td>\n",
       "      <td>...</td>\n",
       "      <td>...</td>\n",
       "      <td>...</td>\n",
       "      <td>...</td>\n",
       "      <td>...</td>\n",
       "      <td>...</td>\n",
       "      <td>...</td>\n",
       "      <td>...</td>\n",
       "      <td>...</td>\n",
       "      <td>...</td>\n",
       "      <td>...</td>\n",
       "    </tr>\n",
       "    <tr>\n",
       "      <th>TTTGTCTAGGGCCACT-1</th>\n",
       "      <td>cd34_multiome_rep2</td>\n",
       "      <td>9.709</td>\n",
       "      <td>10267</td>\n",
       "      <td>11241</td>\n",
       "      <td>377</td>\n",
       "      <td>0.163753</td>\n",
       "      <td>1</td>\n",
       "      <td>1.138771</td>\n",
       "      <td>5234</td>\n",
       "      <td>16048</td>\n",
       "      <td>...</td>\n",
       "      <td>0.005492</td>\n",
       "      <td>C1</td>\n",
       "      <td>18997</td>\n",
       "      <td>0.589639</td>\n",
       "      <td>7</td>\n",
       "      <td>6</td>\n",
       "      <td>Ery</td>\n",
       "      <td>cd34_multiome_rep1#TAGCGGCTCATTATGG-1</td>\n",
       "      <td>TTTGTCTAGGGCCACT-1</td>\n",
       "      <td>cd34_multiome_rep2</td>\n",
       "    </tr>\n",
       "    <tr>\n",
       "      <th>TTTGTGAAGGAAGCAC-1</th>\n",
       "      <td>cd34_multiome_rep2</td>\n",
       "      <td>10.617</td>\n",
       "      <td>5147</td>\n",
       "      <td>5139</td>\n",
       "      <td>134</td>\n",
       "      <td>0.211813</td>\n",
       "      <td>1</td>\n",
       "      <td>1.447740</td>\n",
       "      <td>2023</td>\n",
       "      <td>4956</td>\n",
       "      <td>...</td>\n",
       "      <td>0.005523</td>\n",
       "      <td>C5</td>\n",
       "      <td>7285</td>\n",
       "      <td>0.731867</td>\n",
       "      <td>6</td>\n",
       "      <td>0</td>\n",
       "      <td>HSC</td>\n",
       "      <td>cd34_multiome_rep1#TACAGCTAGTAATCCA-1</td>\n",
       "      <td>TTTGTGAAGGAAGCAC-1</td>\n",
       "      <td>cd34_multiome_rep2</td>\n",
       "    </tr>\n",
       "    <tr>\n",
       "      <th>TTTGTGAAGTAACCAC-1</th>\n",
       "      <td>cd34_multiome_rep2</td>\n",
       "      <td>12.637</td>\n",
       "      <td>9464</td>\n",
       "      <td>9801</td>\n",
       "      <td>203</td>\n",
       "      <td>0.222770</td>\n",
       "      <td>1</td>\n",
       "      <td>1.230808</td>\n",
       "      <td>3482</td>\n",
       "      <td>9861</td>\n",
       "      <td>...</td>\n",
       "      <td>0.004614</td>\n",
       "      <td>C6</td>\n",
       "      <td>14692</td>\n",
       "      <td>0.742020</td>\n",
       "      <td>5</td>\n",
       "      <td>5</td>\n",
       "      <td>HSC</td>\n",
       "      <td>cd34_multiome_rep1#GCAGGCTTCAAACACC-1</td>\n",
       "      <td>TTTGTGAAGTAACCAC-1</td>\n",
       "      <td>cd34_multiome_rep2</td>\n",
       "    </tr>\n",
       "    <tr>\n",
       "      <th>TTTGTGGCATACTCCT-1</th>\n",
       "      <td>cd34_multiome_rep2</td>\n",
       "      <td>9.624</td>\n",
       "      <td>2012</td>\n",
       "      <td>2201</td>\n",
       "      <td>63</td>\n",
       "      <td>0.219136</td>\n",
       "      <td>1</td>\n",
       "      <td>1.140665</td>\n",
       "      <td>723</td>\n",
       "      <td>2346</td>\n",
       "      <td>...</td>\n",
       "      <td>0.006272</td>\n",
       "      <td>C12</td>\n",
       "      <td>3266</td>\n",
       "      <td>0.694894</td>\n",
       "      <td>15</td>\n",
       "      <td>15</td>\n",
       "      <td>Ery</td>\n",
       "      <td>cd34_multiome_rep1#GATTCAGGTCGTTATC-1</td>\n",
       "      <td>TTTGTGGCATACTCCT-1</td>\n",
       "      <td>cd34_multiome_rep2</td>\n",
       "    </tr>\n",
       "    <tr>\n",
       "      <th>TTTGTTGGTTCGCTCA-1</th>\n",
       "      <td>cd34_multiome_rep2</td>\n",
       "      <td>10.941</td>\n",
       "      <td>2978</td>\n",
       "      <td>3164</td>\n",
       "      <td>84</td>\n",
       "      <td>0.191502</td>\n",
       "      <td>1</td>\n",
       "      <td>1.316601</td>\n",
       "      <td>1364</td>\n",
       "      <td>3566</td>\n",
       "      <td>...</td>\n",
       "      <td>0.005084</td>\n",
       "      <td>C4</td>\n",
       "      <td>5097</td>\n",
       "      <td>0.710482</td>\n",
       "      <td>5</td>\n",
       "      <td>5</td>\n",
       "      <td>HMP</td>\n",
       "      <td>cd34_multiome_rep1#GTACTTCGTTGGTGAC-1</td>\n",
       "      <td>TTTGTTGGTTCGCTCA-1</td>\n",
       "      <td>cd34_multiome_rep2</td>\n",
       "    </tr>\n",
       "  </tbody>\n",
       "</table>\n",
       "<p>6881 rows × 22 columns</p>\n",
       "</div>\n",
       "    <div class=\"colab-df-buttons\">\n",
       "\n",
       "  <div class=\"colab-df-container\">\n",
       "    <button class=\"colab-df-convert\" onclick=\"convertToInteractive('df-5d316663-583d-4003-9f7e-d4e697eb6539')\"\n",
       "            title=\"Convert this dataframe to an interactive table.\"\n",
       "            style=\"display:none;\">\n",
       "\n",
       "  <svg xmlns=\"http://www.w3.org/2000/svg\" height=\"24px\" viewBox=\"0 -960 960 960\">\n",
       "    <path d=\"M120-120v-720h720v720H120Zm60-500h600v-160H180v160Zm220 220h160v-160H400v160Zm0 220h160v-160H400v160ZM180-400h160v-160H180v160Zm440 0h160v-160H620v160ZM180-180h160v-160H180v160Zm440 0h160v-160H620v160Z\"/>\n",
       "  </svg>\n",
       "    </button>\n",
       "\n",
       "  <style>\n",
       "    .colab-df-container {\n",
       "      display:flex;\n",
       "      gap: 12px;\n",
       "    }\n",
       "\n",
       "    .colab-df-convert {\n",
       "      background-color: #E8F0FE;\n",
       "      border: none;\n",
       "      border-radius: 50%;\n",
       "      cursor: pointer;\n",
       "      display: none;\n",
       "      fill: #1967D2;\n",
       "      height: 32px;\n",
       "      padding: 0 0 0 0;\n",
       "      width: 32px;\n",
       "    }\n",
       "\n",
       "    .colab-df-convert:hover {\n",
       "      background-color: #E2EBFA;\n",
       "      box-shadow: 0px 1px 2px rgba(60, 64, 67, 0.3), 0px 1px 3px 1px rgba(60, 64, 67, 0.15);\n",
       "      fill: #174EA6;\n",
       "    }\n",
       "\n",
       "    .colab-df-buttons div {\n",
       "      margin-bottom: 4px;\n",
       "    }\n",
       "\n",
       "    [theme=dark] .colab-df-convert {\n",
       "      background-color: #3B4455;\n",
       "      fill: #D2E3FC;\n",
       "    }\n",
       "\n",
       "    [theme=dark] .colab-df-convert:hover {\n",
       "      background-color: #434B5C;\n",
       "      box-shadow: 0px 1px 3px 1px rgba(0, 0, 0, 0.15);\n",
       "      filter: drop-shadow(0px 1px 2px rgba(0, 0, 0, 0.3));\n",
       "      fill: #FFFFFF;\n",
       "    }\n",
       "  </style>\n",
       "\n",
       "    <script>\n",
       "      const buttonEl =\n",
       "        document.querySelector('#df-5d316663-583d-4003-9f7e-d4e697eb6539 button.colab-df-convert');\n",
       "      buttonEl.style.display =\n",
       "        google.colab.kernel.accessAllowed ? 'block' : 'none';\n",
       "\n",
       "      async function convertToInteractive(key) {\n",
       "        const element = document.querySelector('#df-5d316663-583d-4003-9f7e-d4e697eb6539');\n",
       "        const dataTable =\n",
       "          await google.colab.kernel.invokeFunction('convertToInteractive',\n",
       "                                                    [key], {});\n",
       "        if (!dataTable) return;\n",
       "\n",
       "        const docLinkHtml = 'Like what you see? Visit the ' +\n",
       "          '<a target=\"_blank\" href=https://colab.research.google.com/notebooks/data_table.ipynb>data table notebook</a>'\n",
       "          + ' to learn more about interactive tables.';\n",
       "        element.innerHTML = '';\n",
       "        dataTable['output_type'] = 'display_data';\n",
       "        await google.colab.output.renderOutput(dataTable, element);\n",
       "        const docLink = document.createElement('div');\n",
       "        docLink.innerHTML = docLinkHtml;\n",
       "        element.appendChild(docLink);\n",
       "      }\n",
       "    </script>\n",
       "  </div>\n",
       "\n",
       "\n",
       "<div id=\"df-9c058ef8-8f72-4ff3-b240-039341a50e7f\">\n",
       "  <button class=\"colab-df-quickchart\" onclick=\"quickchart('df-9c058ef8-8f72-4ff3-b240-039341a50e7f')\"\n",
       "            title=\"Suggest charts.\"\n",
       "            style=\"display:none;\">\n",
       "\n",
       "<svg xmlns=\"http://www.w3.org/2000/svg\" height=\"24px\"viewBox=\"0 0 24 24\"\n",
       "     width=\"24px\">\n",
       "    <g>\n",
       "        <path d=\"M19 3H5c-1.1 0-2 .9-2 2v14c0 1.1.9 2 2 2h14c1.1 0 2-.9 2-2V5c0-1.1-.9-2-2-2zM9 17H7v-7h2v7zm4 0h-2V7h2v10zm4 0h-2v-4h2v4z\"/>\n",
       "    </g>\n",
       "</svg>\n",
       "  </button>\n",
       "\n",
       "<style>\n",
       "  .colab-df-quickchart {\n",
       "      --bg-color: #E8F0FE;\n",
       "      --fill-color: #1967D2;\n",
       "      --hover-bg-color: #E2EBFA;\n",
       "      --hover-fill-color: #174EA6;\n",
       "      --disabled-fill-color: #AAA;\n",
       "      --disabled-bg-color: #DDD;\n",
       "  }\n",
       "\n",
       "  [theme=dark] .colab-df-quickchart {\n",
       "      --bg-color: #3B4455;\n",
       "      --fill-color: #D2E3FC;\n",
       "      --hover-bg-color: #434B5C;\n",
       "      --hover-fill-color: #FFFFFF;\n",
       "      --disabled-bg-color: #3B4455;\n",
       "      --disabled-fill-color: #666;\n",
       "  }\n",
       "\n",
       "  .colab-df-quickchart {\n",
       "    background-color: var(--bg-color);\n",
       "    border: none;\n",
       "    border-radius: 50%;\n",
       "    cursor: pointer;\n",
       "    display: none;\n",
       "    fill: var(--fill-color);\n",
       "    height: 32px;\n",
       "    padding: 0;\n",
       "    width: 32px;\n",
       "  }\n",
       "\n",
       "  .colab-df-quickchart:hover {\n",
       "    background-color: var(--hover-bg-color);\n",
       "    box-shadow: 0 1px 2px rgba(60, 64, 67, 0.3), 0 1px 3px 1px rgba(60, 64, 67, 0.15);\n",
       "    fill: var(--button-hover-fill-color);\n",
       "  }\n",
       "\n",
       "  .colab-df-quickchart-complete:disabled,\n",
       "  .colab-df-quickchart-complete:disabled:hover {\n",
       "    background-color: var(--disabled-bg-color);\n",
       "    fill: var(--disabled-fill-color);\n",
       "    box-shadow: none;\n",
       "  }\n",
       "\n",
       "  .colab-df-spinner {\n",
       "    border: 2px solid var(--fill-color);\n",
       "    border-color: transparent;\n",
       "    border-bottom-color: var(--fill-color);\n",
       "    animation:\n",
       "      spin 1s steps(1) infinite;\n",
       "  }\n",
       "\n",
       "  @keyframes spin {\n",
       "    0% {\n",
       "      border-color: transparent;\n",
       "      border-bottom-color: var(--fill-color);\n",
       "      border-left-color: var(--fill-color);\n",
       "    }\n",
       "    20% {\n",
       "      border-color: transparent;\n",
       "      border-left-color: var(--fill-color);\n",
       "      border-top-color: var(--fill-color);\n",
       "    }\n",
       "    30% {\n",
       "      border-color: transparent;\n",
       "      border-left-color: var(--fill-color);\n",
       "      border-top-color: var(--fill-color);\n",
       "      border-right-color: var(--fill-color);\n",
       "    }\n",
       "    40% {\n",
       "      border-color: transparent;\n",
       "      border-right-color: var(--fill-color);\n",
       "      border-top-color: var(--fill-color);\n",
       "    }\n",
       "    60% {\n",
       "      border-color: transparent;\n",
       "      border-right-color: var(--fill-color);\n",
       "    }\n",
       "    80% {\n",
       "      border-color: transparent;\n",
       "      border-right-color: var(--fill-color);\n",
       "      border-bottom-color: var(--fill-color);\n",
       "    }\n",
       "    90% {\n",
       "      border-color: transparent;\n",
       "      border-bottom-color: var(--fill-color);\n",
       "    }\n",
       "  }\n",
       "</style>\n",
       "\n",
       "  <script>\n",
       "    async function quickchart(key) {\n",
       "      const quickchartButtonEl =\n",
       "        document.querySelector('#' + key + ' button');\n",
       "      quickchartButtonEl.disabled = true;  // To prevent multiple clicks.\n",
       "      quickchartButtonEl.classList.add('colab-df-spinner');\n",
       "      try {\n",
       "        const charts = await google.colab.kernel.invokeFunction(\n",
       "            'suggestCharts', [key], {});\n",
       "      } catch (error) {\n",
       "        console.error('Error during call to suggestCharts:', error);\n",
       "      }\n",
       "      quickchartButtonEl.classList.remove('colab-df-spinner');\n",
       "      quickchartButtonEl.classList.add('colab-df-quickchart-complete');\n",
       "    }\n",
       "    (() => {\n",
       "      let quickchartButtonEl =\n",
       "        document.querySelector('#df-9c058ef8-8f72-4ff3-b240-039341a50e7f button');\n",
       "      quickchartButtonEl.style.display =\n",
       "        google.colab.kernel.accessAllowed ? 'block' : 'none';\n",
       "    })();\n",
       "  </script>\n",
       "</div>\n",
       "    </div>\n",
       "  </div>\n"
      ],
      "text/plain": [
       "                                Sample  TSSEnrichment  ReadsInTSS  \\\n",
       "barcode                                                             \n",
       "AAACAGCCACTCGCTC-1  cd34_multiome_rep1         10.131        6559   \n",
       "AAACAGCCACTGACCG-1  cd34_multiome_rep1          9.216        6381   \n",
       "AAACAGCCATAATCAC-1  cd34_multiome_rep1         11.886        5264   \n",
       "AAACATGCAAATTCGT-1  cd34_multiome_rep1         12.290        7994   \n",
       "AAACATGCAGCATGTC-1  cd34_multiome_rep1          9.746        8067   \n",
       "...                                ...            ...         ...   \n",
       "TTTGTCTAGGGCCACT-1  cd34_multiome_rep2          9.709       10267   \n",
       "TTTGTGAAGGAAGCAC-1  cd34_multiome_rep2         10.617        5147   \n",
       "TTTGTGAAGTAACCAC-1  cd34_multiome_rep2         12.637        9464   \n",
       "TTTGTGGCATACTCCT-1  cd34_multiome_rep2          9.624        2012   \n",
       "TTTGTTGGTTCGCTCA-1  cd34_multiome_rep2         10.941        2978   \n",
       "\n",
       "                    ReadsInPromoter  ReadsInBlacklist  PromoterRatio  PassQC  \\\n",
       "barcode                                                                        \n",
       "AAACAGCCACTCGCTC-1             7086               227       0.186062       1   \n",
       "AAACAGCCACTGACCG-1             7340               239       0.154260       1   \n",
       "AAACAGCCATAATCAC-1             5476               143       0.222638       1   \n",
       "AAACATGCAAATTCGT-1             8203               214       0.231266       1   \n",
       "AAACATGCAGCATGTC-1             8928               293       0.168218       1   \n",
       "...                             ...               ...            ...     ...   \n",
       "TTTGTCTAGGGCCACT-1            11241               377       0.163753       1   \n",
       "TTTGTGAAGGAAGCAC-1             5139               134       0.211813       1   \n",
       "TTTGTGAAGTAACCAC-1             9801               203       0.222770       1   \n",
       "TTTGTGGCATACTCCT-1             2201                63       0.219136       1   \n",
       "TTTGTTGGTTCGCTCA-1             3164                84       0.191502       1   \n",
       "\n",
       "                    NucleosomeRatio  nMultiFrags  nMonoFrags  ...  \\\n",
       "barcode                                                       ...   \n",
       "AAACAGCCACTCGCTC-1         1.015666         2757        9447  ...   \n",
       "AAACAGCCACTGACCG-1         1.373404         3747       10024  ...   \n",
       "AAACAGCCATAATCAC-1         1.149624         1899        5721  ...   \n",
       "AAACATGCAAATTCGT-1         1.431784         3004        7293  ...   \n",
       "AAACATGCAGCATGTC-1         1.517742         4481       10540  ...   \n",
       "...                             ...          ...         ...  ...   \n",
       "TTTGTCTAGGGCCACT-1         1.138771         5234       16048  ...   \n",
       "TTTGTGAAGGAAGCAC-1         1.447740         2023        4956  ...   \n",
       "TTTGTGAAGTAACCAC-1         1.230808         3482        9861  ...   \n",
       "TTTGTGGCATACTCCT-1         1.140665          723        2346  ...   \n",
       "TTTGTTGGTTCGCTCA-1         1.316601         1364        3566  ...   \n",
       "\n",
       "                    BlacklistRatio  Clusters  ReadsInPeaks      FRIP  leiden  \\\n",
       "barcode                                                                        \n",
       "AAACAGCCACTCGCTC-1        0.005961        C8         12388  0.654204       3   \n",
       "AAACAGCCACTGACCG-1        0.005023       C13         12880  0.639777       0   \n",
       "AAACAGCCATAATCAC-1        0.005814        C5          8390  0.731218       5   \n",
       "AAACATGCAAATTCGT-1        0.006033        C5         10992  0.749591       4   \n",
       "AAACATGCAGCATGTC-1        0.005521        C1         13298  0.627383       7   \n",
       "...                            ...       ...           ...       ...     ...   \n",
       "TTTGTCTAGGGCCACT-1        0.005492        C1         18997  0.589639       7   \n",
       "TTTGTGAAGGAAGCAC-1        0.005523        C5          7285  0.731867       6   \n",
       "TTTGTGAAGTAACCAC-1        0.004614        C6         14692  0.742020       5   \n",
       "TTTGTGGCATACTCCT-1        0.006272       C12          3266  0.694894      15   \n",
       "TTTGTTGGTTCGCTCA-1        0.005084        C4          5097  0.710482       5   \n",
       "\n",
       "                    phenograph celltype  \\\n",
       "barcode                                   \n",
       "AAACAGCCACTCGCTC-1           5      HMP   \n",
       "AAACAGCCACTGACCG-1           2    DCPre   \n",
       "AAACAGCCATAATCAC-1           0      HSC   \n",
       "AAACATGCAAATTCGT-1           0      HSC   \n",
       "AAACATGCAGCATGTC-1           6      Ery   \n",
       "...                        ...      ...   \n",
       "TTTGTCTAGGGCCACT-1           6      Ery   \n",
       "TTTGTGAAGGAAGCAC-1           0      HSC   \n",
       "TTTGTGAAGTAACCAC-1           5      HSC   \n",
       "TTTGTGGCATACTCCT-1          15      Ery   \n",
       "TTTGTTGGTTCGCTCA-1           5      HMP   \n",
       "\n",
       "                                                  SEACell             barcode  \\\n",
       "barcode                                                                         \n",
       "AAACAGCCACTCGCTC-1  cd34_multiome_rep1#AAACAGCCACTCGCTC-1  AAACAGCCACTCGCTC-1   \n",
       "AAACAGCCACTGACCG-1  cd34_multiome_rep1#TTGCAGCCAGGCGATA-1  AAACAGCCACTGACCG-1   \n",
       "AAACAGCCATAATCAC-1  cd34_multiome_rep1#TACAGCTAGTAATCCA-1  AAACAGCCATAATCAC-1   \n",
       "AAACATGCAAATTCGT-1  cd34_multiome_rep2#TAACCTAAGGATTGAG-1  AAACATGCAAATTCGT-1   \n",
       "AAACATGCAGCATGTC-1  cd34_multiome_rep1#TAGCGGCTCATTATGG-1  AAACATGCAGCATGTC-1   \n",
       "...                                                   ...                 ...   \n",
       "TTTGTCTAGGGCCACT-1  cd34_multiome_rep1#TAGCGGCTCATTATGG-1  TTTGTCTAGGGCCACT-1   \n",
       "TTTGTGAAGGAAGCAC-1  cd34_multiome_rep1#TACAGCTAGTAATCCA-1  TTTGTGAAGGAAGCAC-1   \n",
       "TTTGTGAAGTAACCAC-1  cd34_multiome_rep1#GCAGGCTTCAAACACC-1  TTTGTGAAGTAACCAC-1   \n",
       "TTTGTGGCATACTCCT-1  cd34_multiome_rep1#GATTCAGGTCGTTATC-1  TTTGTGGCATACTCCT-1   \n",
       "TTTGTTGGTTCGCTCA-1  cd34_multiome_rep1#GTACTTCGTTGGTGAC-1  TTTGTTGGTTCGCTCA-1   \n",
       "\n",
       "                                  type  \n",
       "barcode                                 \n",
       "AAACAGCCACTCGCTC-1  cd34_multiome_rep2  \n",
       "AAACAGCCACTGACCG-1  cd34_multiome_rep2  \n",
       "AAACAGCCATAATCAC-1  cd34_multiome_rep2  \n",
       "AAACATGCAAATTCGT-1  cd34_multiome_rep2  \n",
       "AAACATGCAGCATGTC-1  cd34_multiome_rep2  \n",
       "...                                ...  \n",
       "TTTGTCTAGGGCCACT-1  cd34_multiome_rep2  \n",
       "TTTGTGAAGGAAGCAC-1  cd34_multiome_rep2  \n",
       "TTTGTGAAGTAACCAC-1  cd34_multiome_rep2  \n",
       "TTTGTGGCATACTCCT-1  cd34_multiome_rep2  \n",
       "TTTGTTGGTTCGCTCA-1  cd34_multiome_rep2  \n",
       "\n",
       "[6881 rows x 22 columns]"
      ]
     },
     "execution_count": 14,
     "metadata": {},
     "output_type": "execute_result"
    }
   ],
   "source": [
    "adata.obs.loc[adata.obs.index.isin(set(fragment_2.iloc[:,3])), 'type'] = \"cd34_multiome_rep2\"\n",
    "adata.obs"
   ]
  },
  {
   "cell_type": "code",
   "execution_count": 15,
   "metadata": {
    "id": "tJ81OJUSqUAC"
   },
   "outputs": [],
   "source": [
    "fragments_dict = {'cd34_multiome_rep1': '/content/GSM6005303_BM_CD34_Rep1_atac_fragments.tsv.gz',\n",
    "          'cd34_multiome_rep2': '/content/GSM6005305_BM_CD34_Rep2_atac_fragments.tsv.gz'}"
   ]
  },
  {
   "cell_type": "code",
   "execution_count": null,
   "metadata": {
    "id": "545b4ad0-2ea8-473c-be39-536bcb7cd323"
   },
   "outputs": [],
   "source": [
    "ev.single.pseudobulk_with_fragments(\n",
    "    input_data = adata.obs,\n",
    "    chromsizes = chromsizes,\n",
    "    cluster_key = 'celltype',\n",
    "    clusters = ['cDC','pDC','CLP'],\n",
    "    bed_path = 'result/pseudobulk_bed_files/',\n",
    "    bigwig_path = 'result/pseudobulk_bw_files/',\n",
    "    verbose = True,\n",
    "    path_to_fragments = fragments_dict,\n",
    "    sample_id_col = 'type'\n",
    ")"
   ]
  },
  {
   "cell_type": "code",
   "execution_count": 37,
   "metadata": {
    "colab": {
     "base_uri": "https://localhost:8080/"
    },
    "id": "n8dQVT7Yp_Gt",
    "outputId": "bef0a5a1-d973-45c0-8ea2-f4612cd89165"
   },
   "outputs": [
    {
     "name": "stdout",
     "output_type": "stream",
     "text": [
      "......Loading cDC\n",
      "......Loading pDC\n",
      "......Loading CLP\n"
     ]
    }
   ],
   "source": [
    "bw_dict={\n",
    "    'cDC':'result/pseudobulk_bw_files/cDC.bw',\n",
    "    'pDC':'result/pseudobulk_bw_files/pDC.bw',\n",
    "    'CLP':'result/pseudobulk_bw_files/CLP.bw',\n",
    "}\n",
    "bw_obj=ev.bulk.bigwig(bw_dict)\n",
    "bw_obj.read()"
   ]
  },
  {
   "cell_type": "code",
   "execution_count": 38,
   "metadata": {
    "id": "7YU44P8mqO-v"
   },
   "outputs": [],
   "source": [
    "color_dict=dict(zip(adata.obs['celltype'].cat.categories,adata.uns['celltype_colors']))"
   ]
  },
  {
   "cell_type": "code",
   "execution_count": 39,
   "metadata": {
    "colab": {
     "base_uri": "https://localhost:8080/"
    },
    "id": "IGRztjixqYk6",
    "outputId": "7382b801-60eb-4297-a501-b761510080a8"
   },
   "outputs": [
    {
     "name": "stdout",
     "output_type": "stream",
     "text": [
      "......Loading gtf file\n"
     ]
    }
   ],
   "source": [
    "bw_obj.load_gtf('/content/gencode.v44.basic.annotation.gtf.gz')"
   ]
  },
  {
   "cell_type": "code",
   "execution_count": 41,
   "metadata": {
    "colab": {
     "base_uri": "https://localhost:8080/",
     "height": 257
    },
    "id": "WOazEz5Bqa_L",
    "outputId": "672e56c6-bcae-4269-8610-925f296333b0"
   },
   "outputs": [
    {
     "data": {
      "text/plain": [
       "(<Figure size 480x192 with 4 Axes>,\n",
       " array([<AxesSubplot: ylabel='cDC'>, <AxesSubplot: ylabel='pDC'>,\n",
       "        <AxesSubplot: ylabel='CLP'>, <AxesSubplot: >], dtype=object))"
      ]
     },
     "execution_count": 41,
     "metadata": {},
     "output_type": "execute_result"
    },
    {
     "data": {
      "image/png": "[encoded data removed]",
      "text/plain": [
       "<Figure size 480x192 with 4 Axes>"
      ]
     },
     "metadata": {
      "image/png": {
       "height": 187,
       "width": 462
      }
     },
     "output_type": "display_data"
    }
   ],
   "source": [
    "bw_obj.plot_track(chrom='chr3',chromstart=124200000,chromend=128600000,\n",
    "                  plot_names=['cDC','pDC','CLP'],figwidth=6,figheight=0.6,\n",
    "                  color_dict=color_dict,\n",
    "                  region_dict=region_dict\n",
    "                 )"
   ]
  }
 ],
 "metadata": {
  "colab": {
   "machine_shape": "hm",
   "provenance": []
  },
  "kernelspec": {
   "display_name": "Python 3 (ipykernel)",
   "language": "python",
   "name": "python3"
  },
  "language_info": {
   "codemirror_mode": {
    "name": "ipython",
    "version": 3
   },
   "file_extension": ".py",
   "mimetype": "text/x-python",
   "name": "python",
   "nbconvert_exporter": "python",
   "pygments_lexer": "ipython3",
   "version": "3.9.18"
  }
 },
 "nbformat": 4,
 "nbformat_minor": 4
}
