{
 "cells": [
  {
   "attachments": {},
   "cell_type": "markdown",
   "id": "a5160f2e",
   "metadata": {},
   "source": [
    "# Find the genes related regions"
   ]
  },
  {
   "cell_type": "code",
   "execution_count": 1,
   "id": "56e7f41c-5c55-45bc-966f-f38cf2934dbe",
   "metadata": {},
   "outputs": [
    {
     "name": "stderr",
     "output_type": "stream",
     "text": [
      "2023-08-20 21:06:05.193053: I tensorflow/core/platform/cpu_feature_guard.cc:193] This TensorFlow binary is optimized with oneAPI Deep Neural Network Library (oneDNN) to use the following CPU instructions in performance-critical operations:  AVX2 FMA\n",
      "To enable them in other operations, rebuild TensorFlow with the appropriate compiler flags.\n",
      "2023-08-20 21:06:05.800191: W tensorflow/compiler/xla/stream_executor/platform/default/dso_loader.cc:64] Could not load dynamic library 'libnvinfer.so.7'; dlerror: libnvinfer.so.7: cannot open shared object file: No such file or directory\n",
      "2023-08-20 21:06:05.800256: W tensorflow/compiler/xla/stream_executor/platform/default/dso_loader.cc:64] Could not load dynamic library 'libnvinfer_plugin.so.7'; dlerror: libnvinfer_plugin.so.7: cannot open shared object file: No such file or directory\n",
      "2023-08-20 21:06:05.800262: W tensorflow/compiler/tf2tensorrt/utils/py_utils.cc:38] TF-TRT Warning: Cannot dlopen some TensorRT libraries. If you would like to use Nvidia GPU with TensorRT, please make sure the missing libraries mentioned above are installed properly.\n"
     ]
    }
   ],
   "source": [
    "import omicverse as ov\n",
    "import scanpy as sc\n",
    "import Epiverse as ev\n",
    "ov.ov_plot_set()"
   ]
  },
  {
   "cell_type": "code",
   "execution_count": 2,
   "id": "5d099989-f639-4b8c-8143-04890ea102fa",
   "metadata": {},
   "outputs": [
    {
     "data": {
      "text/plain": [
       "AnnData object with n_obs × n_vars = 6881 × 246113\n",
       "    obs: 'Sample', 'TSSEnrichment', 'ReadsInTSS', 'ReadsInPromoter', 'ReadsInBlacklist', 'PromoterRatio', 'PassQC', 'NucleosomeRatio', 'nMultiFrags', 'nMonoFrags', 'nFrags', 'nDiFrags', 'BlacklistRatio', 'Clusters', 'ReadsInPeaks', 'FRIP', 'leiden', 'phenograph', 'celltype', 'SEACell'\n",
       "    var: 'seqnames', 'start', 'end', 'width', 'strand', 'score', 'replicateScoreQuantile', 'groupScoreQuantile', 'Reproducibility', 'GroupReplicate', 'nearestGene', 'distToGeneStart', 'peakType', 'distToTSS', 'nearestTSS', 'GC', 'idx'\n",
       "    uns: 'celltype_colors'\n",
       "    obsm: 'X_svd', 'X_umap'"
      ]
     },
     "execution_count": 2,
     "metadata": {},
     "output_type": "execute_result"
    }
   ],
   "source": [
    "adata=sc.read('data/biodata/cd34_multiome_atac.h5ad')\n",
    "adata"
   ]
  },
  {
   "cell_type": "code",
   "execution_count": 4,
   "id": "a7709e4b-0b92-4395-8d04-763b1faffd12",
   "metadata": {},
   "outputs": [
    {
     "data": {
      "text/plain": [
       "{'chr1': 248937043,\n",
       " 'chr2': 242175694,\n",
       " 'chr3': 198228376,\n",
       " 'chr4': 190196190,\n",
       " 'chr5': 181472430,\n",
       " 'chr6': 170745977,\n",
       " 'chr7': 159233377,\n",
       " 'chr8': 145066685,\n",
       " 'chr9': 138320835,\n",
       " 'chr10': 133778699,\n",
       " 'chr11': 135075908,\n",
       " 'chr12': 133238549,\n",
       " 'chr13': 114346637,\n",
       " 'chr14': 106879812,\n",
       " 'chr15': 101979093,\n",
       " 'chr16': 90222673,\n",
       " 'chr17': 83240804,\n",
       " 'chr18': 80247514,\n",
       " 'chr19': 58605223,\n",
       " 'chr20': 64327972,\n",
       " 'chr21': 46691226,\n",
       " 'chr22': 50801309,\n",
       " 'chrX': 156027877,\n",
       " 'chrY': 57214397,\n",
       " 'chrM': 16023}"
      ]
     },
     "execution_count": 4,
     "metadata": {},
     "output_type": "execute_result"
    }
   ],
   "source": [
    "atac_anno=ev.utils.Annotation('/mnt/home/zehuazeng/data/gtf/gencode.v43.basic.annotation.gtf')\n",
    "atac_anno.chrom_dict"
   ]
  },
  {
   "cell_type": "code",
   "execution_count": 5,
   "id": "7bf7b7f1-8aa4-49c0-9d47-4cfd9397a860",
   "metadata": {},
   "outputs": [],
   "source": [
    "atac_anno.tss_init(upstream=1000,\n",
    "                   downstream=100)\n",
    "atac_anno.distal_init(upstream=[1000,200000],\n",
    "                      downstream=[1000,200000])\n",
    "atac_anno.body_init()"
   ]
  },
  {
   "cell_type": "code",
   "execution_count": 6,
   "id": "bfd9ddc5-4e4f-4220-888e-5b31fef06c48",
   "metadata": {},
   "outputs": [
    {
     "name": "stderr",
     "output_type": "stream",
     "text": [
      "100%|██████████| 3073/3073 [00:16<00:00, 187.28it/s]\n"
     ]
    },
    {
     "name": "stdout",
     "output_type": "stream",
     "text": [
      "Start process_querychr6...\n"
     ]
    },
    {
     "name": "stderr",
     "output_type": "stream",
     "text": [
      " 65%|██████▍   | 2337/3599 [00:09<00:05, 212.21it/s]"
     ]
    },
    {
     "name": "stdout",
     "output_type": "stream",
     "text": [
      "Start process_querychr6...\n"
     ]
    },
    {
     "name": "stderr",
     "output_type": "stream",
     "text": [
      "100%|██████████| 3599/3599 [00:14<00:00, 244.08it/s]\n",
      " 59%|█████▉    | 2115/3599 [00:09<00:07, 207.30it/s]"
     ]
    },
    {
     "name": "stdout",
     "output_type": "stream",
     "text": [
      "Start process_querychr6...\n"
     ]
    },
    {
     "name": "stderr",
     "output_type": "stream",
     "text": [
      "100%|██████████| 3599/3599 [00:18<00:00, 197.08it/s]\n",
      " 46%|████▌     | 1653/3599 [00:10<00:11, 162.31it/s]"
     ]
    },
    {
     "name": "stdout",
     "output_type": "stream",
     "text": [
      "Start process_querychr6...\n"
     ]
    },
    {
     "name": "stderr",
     "output_type": "stream",
     "text": [
      " 45%|████▍     | 1605/3599 [00:08<00:12, 160.97it/s]"
     ]
    },
    {
     "name": "stdout",
     "output_type": "stream",
     "text": [
      "Start process_querychr6...\n"
     ]
    },
    {
     "name": "stderr",
     "output_type": "stream",
     "text": [
      "100%|██████████| 3/3 [00:00<00:00, 169.65it/s]\n",
      "100%|██████████| 3599/3599 [00:21<00:00, 170.19it/s]\n",
      "100%|██████████| 3599/3599 [00:19<00:00, 180.60it/s]\n"
     ]
    },
    {
     "name": "stdout",
     "output_type": "stream",
     "text": [
      "Start process_querychr7...\n"
     ]
    },
    {
     "name": "stderr",
     "output_type": "stream",
     "text": [
      " 75%|███████▍  | 2310/3091 [00:09<00:03, 223.19it/s]"
     ]
    },
    {
     "name": "stdout",
     "output_type": "stream",
     "text": [
      "Start process_querychr7...\n"
     ]
    },
    {
     "name": "stderr",
     "output_type": "stream",
     "text": [
      "100%|██████████| 3091/3091 [00:12<00:00, 249.46it/s]\n",
      " 69%|██████▉   | 2144/3091 [00:09<00:04, 219.50it/s]"
     ]
    },
    {
     "name": "stdout",
     "output_type": "stream",
     "text": [
      "Start process_querychr7...\n"
     ]
    },
    {
     "name": "stderr",
     "output_type": "stream",
     "text": [
      "100%|██████████| 3091/3091 [00:14<00:00, 219.68it/s]\n",
      " 59%|█████▉    | 1833/3091 [00:08<00:06, 201.70it/s]"
     ]
    },
    {
     "name": "stdout",
     "output_type": "stream",
     "text": [
      "Start process_querychr7...\n"
     ]
    },
    {
     "name": "stderr",
     "output_type": "stream",
     "text": [
      "100%|██████████| 3091/3091 [00:15<00:00, 200.57it/s]\n",
      "100%|██████████| 3091/3091 [00:16<00:00, 190.75it/s]\n"
     ]
    },
    {
     "name": "stdout",
     "output_type": "stream",
     "text": [
      "Start process_querychr8...\n"
     ]
    },
    {
     "name": "stderr",
     "output_type": "stream",
     "text": [
      "100%|██████████| 2563/2563 [00:09<00:00, 284.09it/s]\n"
     ]
    },
    {
     "name": "stdout",
     "output_type": "stream",
     "text": [
      "Start process_querychr8...\n"
     ]
    },
    {
     "name": "stderr",
     "output_type": "stream",
     "text": [
      " 90%|█████████ | 2307/2563 [00:09<00:01, 211.17it/s]"
     ]
    },
    {
     "name": "stdout",
     "output_type": "stream",
     "text": [
      "Start process_querychr8...\n"
     ]
    },
    {
     "name": "stderr",
     "output_type": "stream",
     "text": [
      "100%|██████████| 2563/2563 [00:10<00:00, 247.70it/s]\n",
      " 79%|███████▉  | 2035/2563 [00:09<00:02, 190.05it/s]"
     ]
    },
    {
     "name": "stdout",
     "output_type": "stream",
     "text": [
      "Start process_querychr8...\n"
     ]
    },
    {
     "name": "stderr",
     "output_type": "stream",
     "text": [
      "100%|██████████| 2563/2563 [00:11<00:00, 215.26it/s]\n",
      " 71%|███████   | 1824/2563 [00:08<00:03, 214.39it/s]"
     ]
    },
    {
     "name": "stdout",
     "output_type": "stream",
     "text": [
      "Start process_querychr8...\n"
     ]
    },
    {
     "name": "stderr",
     "output_type": "stream",
     "text": [
      "100%|██████████| 3/3 [00:00<00:00, 186.47it/s]\n",
      "100%|██████████| 2563/2563 [00:12<00:00, 207.08it/s]\n"
     ]
    },
    {
     "name": "stdout",
     "output_type": "stream",
     "text": [
      "Start process_querychr9...\n"
     ]
    },
    {
     "name": "stderr",
     "output_type": "stream",
     "text": [
      "100%|██████████| 2594/2594 [00:08<00:00, 296.60it/s]\n"
     ]
    },
    {
     "name": "stdout",
     "output_type": "stream",
     "text": [
      "Start process_querychr9...\n"
     ]
    },
    {
     "name": "stderr",
     "output_type": "stream",
     "text": [
      " 88%|████████▊ | 2285/2594 [00:09<00:01, 232.77it/s]"
     ]
    },
    {
     "name": "stdout",
     "output_type": "stream",
     "text": [
      "Start process_querychr9...\n"
     ]
    },
    {
     "name": "stderr",
     "output_type": "stream",
     "text": [
      "100%|██████████| 2594/2594 [00:10<00:00, 245.62it/s]\n",
      " 83%|████████▎ | 2158/2594 [00:09<00:02, 216.28it/s]"
     ]
    },
    {
     "name": "stdout",
     "output_type": "stream",
     "text": [
      "Start process_querychr9...\n"
     ]
    },
    {
     "name": "stderr",
     "output_type": "stream",
     "text": [
      "100%|██████████| 2594/2594 [00:11<00:00, 234.16it/s]\n",
      " 78%|███████▊  | 2032/2594 [00:08<00:02, 216.52it/s]"
     ]
    },
    {
     "name": "stdout",
     "output_type": "stream",
     "text": [
      "Start process_querychr9...\n"
     ]
    },
    {
     "name": "stderr",
     "output_type": "stream",
     "text": [
      "100%|██████████| 3/3 [00:00<00:00, 215.96it/s]\n",
      "100%|██████████| 2594/2594 [00:11<00:00, 228.00it/s]\n"
     ]
    },
    {
     "name": "stdout",
     "output_type": "stream",
     "text": [
      "Start process_querychrX...\n"
     ]
    },
    {
     "name": "stderr",
     "output_type": "stream",
     "text": [
      "100%|██████████| 1524/1524 [00:05<00:00, 283.53it/s]\n"
     ]
    },
    {
     "name": "stdout",
     "output_type": "stream",
     "text": [
      "Start process_querychrX...\n"
     ]
    },
    {
     "name": "stderr",
     "output_type": "stream",
     "text": [
      "100%|██████████| 1524/1524 [00:05<00:00, 269.44it/s]\n"
     ]
    },
    {
     "name": "stdout",
     "output_type": "stream",
     "text": [
      "Start process_querychrX...\n"
     ]
    },
    {
     "name": "stderr",
     "output_type": "stream",
     "text": [
      "100%|██████████| 1524/1524 [00:06<00:00, 237.86it/s]\n"
     ]
    },
    {
     "name": "stdout",
     "output_type": "stream",
     "text": [
      "Start process_querychrX...\n"
     ]
    },
    {
     "name": "stderr",
     "output_type": "stream",
     "text": [
      "100%|██████████| 1524/1524 [00:06<00:00, 220.91it/s]\n"
     ]
    },
    {
     "name": "stdout",
     "output_type": "stream",
     "text": [
      "Start process_querychrX...\n"
     ]
    },
    {
     "name": "stderr",
     "output_type": "stream",
     "text": [
      "100%|██████████| 1/1 [00:00<00:00, 228.14it/s]\n"
     ]
    },
    {
     "name": "stdout",
     "output_type": "stream",
     "text": [
      "CPU times: user 14min 8s, sys: 2min 21s, total: 16min 30s\n",
      "Wall time: 22min 34s\n"
     ]
    }
   ],
   "source": [
    "%%time\n",
    "import pandas as pd\n",
    "k=0\n",
    "for chr in adata.var['seqnames'].unique():\n",
    "    if k==0:\n",
    "        merge_pd=atac_anno.query_multi(query_list=adata.var.loc[adata.var['seqnames']==chr].index.tolist(),\n",
    "                                chrom=chr,batch=4,ncpus=8)\n",
    "    else:\n",
    "        merge_pd1=atac_anno.query_multi(query_list=adata.var.loc[adata.var['seqnames']==chr].index.tolist(),\n",
    "                                chrom=chr,batch=4,ncpus=8)\n",
    "        merge_pd=pd.concat([merge_pd,merge_pd1])\n",
    "    k+=1"
   ]
  },
  {
   "cell_type": "code",
   "execution_count": 12,
   "id": "0d489585-c17d-441f-860f-b7e0295d78c9",
   "metadata": {},
   "outputs": [],
   "source": [
    "merge_pd.to_csv('temp_merge_pd.csv')"
   ]
  },
  {
   "cell_type": "code",
   "execution_count": 5,
   "id": "a382f68a-648a-44da-91f2-b1df639570aa",
   "metadata": {},
   "outputs": [],
   "source": [
    "import pandas as pd\n",
    "merge_pd=pd.read_csv('temp_merge_pd.csv',index_col=0)"
   ]
  },
  {
   "cell_type": "code",
   "execution_count": 8,
   "id": "9bd091f1-a962-451a-a875-9f236dd2c87e",
   "metadata": {},
   "outputs": [],
   "source": [
    "merge_pd=atac_anno.merge_info(merge_pd)"
   ]
  },
  {
   "cell_type": "code",
   "execution_count": 9,
   "id": "00e762d0-6dd2-4a80-9242-8933832030c6",
   "metadata": {},
   "outputs": [],
   "source": [
    "atac_anno.add_gene_info(adata,merge_pd,\n",
    "                        columns=['peaktype','neargene','neargene_tss'])"
   ]
  },
  {
   "cell_type": "code",
   "execution_count": 14,
   "id": "575654e7-0fad-4cdf-8a3f-cae4a4bbcb93",
   "metadata": {},
   "outputs": [
    {
     "data": {
      "text/html": [
       "<div>\n",
       "<style scoped>\n",
       "    .dataframe tbody tr th:only-of-type {\n",
       "        vertical-align: middle;\n",
       "    }\n",
       "\n",
       "    .dataframe tbody tr th {\n",
       "        vertical-align: top;\n",
       "    }\n",
       "\n",
       "    .dataframe thead th {\n",
       "        text-align: right;\n",
       "    }\n",
       "</style>\n",
       "<table border=\"1\" class=\"dataframe\">\n",
       "  <thead>\n",
       "    <tr style=\"text-align: right;\">\n",
       "      <th></th>\n",
       "      <th>peaktype</th>\n",
       "      <th>neargene</th>\n",
       "      <th>neargene_tss</th>\n",
       "    </tr>\n",
       "  </thead>\n",
       "  <tbody>\n",
       "    <tr>\n",
       "      <th>chr1:816070-816570</th>\n",
       "      <td>body</td>\n",
       "      <td>ENSG00000290784</td>\n",
       "      <td>817712</td>\n",
       "    </tr>\n",
       "    <tr>\n",
       "      <th>chr1:817092-817592</th>\n",
       "      <td>promoter</td>\n",
       "      <td>ENSG00000290784</td>\n",
       "      <td>817712</td>\n",
       "    </tr>\n",
       "    <tr>\n",
       "      <th>chr1:827266-827766</th>\n",
       "      <td>promoter</td>\n",
       "      <td>LINC01128</td>\n",
       "      <td>826832</td>\n",
       "    </tr>\n",
       "    <tr>\n",
       "      <th>chr1:838271-838771</th>\n",
       "      <td>body</td>\n",
       "      <td>LINC01128</td>\n",
       "      <td>826832</td>\n",
       "    </tr>\n",
       "    <tr>\n",
       "      <th>chr1:842638-843138</th>\n",
       "      <td>body</td>\n",
       "      <td>LINC01128</td>\n",
       "      <td>827673</td>\n",
       "    </tr>\n",
       "    <tr>\n",
       "      <th>chr1:856533-857033</th>\n",
       "      <td>body</td>\n",
       "      <td>LINC01128</td>\n",
       "      <td>827598</td>\n",
       "    </tr>\n",
       "    <tr>\n",
       "      <th>chr1:858585-859085</th>\n",
       "      <td>body</td>\n",
       "      <td>LINC01128</td>\n",
       "      <td>827598</td>\n",
       "    </tr>\n",
       "    <tr>\n",
       "      <th>chr1:860736-861236</th>\n",
       "      <td>promoter</td>\n",
       "      <td>ENSG00000288531</td>\n",
       "      <td>860227</td>\n",
       "    </tr>\n",
       "    <tr>\n",
       "      <th>chr1:869632-870132</th>\n",
       "      <td>promoter</td>\n",
       "      <td>FAM41C</td>\n",
       "      <td>870201</td>\n",
       "    </tr>\n",
       "    <tr>\n",
       "      <th>chr1:876439-876939</th>\n",
       "      <td>promoter</td>\n",
       "      <td>ENSG00000283040</td>\n",
       "      <td>877234</td>\n",
       "    </tr>\n",
       "    <tr>\n",
       "      <th>chr1:890619-891119</th>\n",
       "      <td>down_distal</td>\n",
       "      <td>ENSG00000285268</td>\n",
       "      <td>781937</td>\n",
       "    </tr>\n",
       "    <tr>\n",
       "      <th>chr1:897221-897721</th>\n",
       "      <td>down_distal</td>\n",
       "      <td>LINC01409</td>\n",
       "      <td>803934</td>\n",
       "    </tr>\n",
       "    <tr>\n",
       "      <th>chr1:898274-898774</th>\n",
       "      <td>down_distal</td>\n",
       "      <td>LINC01409</td>\n",
       "      <td>803934</td>\n",
       "    </tr>\n",
       "    <tr>\n",
       "      <th>chr1:904520-905020</th>\n",
       "      <td>down_distal</td>\n",
       "      <td>LINC01409</td>\n",
       "      <td>803934</td>\n",
       "    </tr>\n",
       "    <tr>\n",
       "      <th>chr1:905170-905670</th>\n",
       "      <td>promoter</td>\n",
       "      <td>ENSG00000272438</td>\n",
       "      <td>904834</td>\n",
       "    </tr>\n",
       "    <tr>\n",
       "      <th>chr1:906630-907130</th>\n",
       "      <td>body</td>\n",
       "      <td>ENSG00000272438</td>\n",
       "      <td>904834</td>\n",
       "    </tr>\n",
       "    <tr>\n",
       "      <th>chr1:909981-910481</th>\n",
       "      <td>body</td>\n",
       "      <td>ENSG00000272438</td>\n",
       "      <td>904834</td>\n",
       "    </tr>\n",
       "    <tr>\n",
       "      <th>chr1:911150-911650</th>\n",
       "      <td>body</td>\n",
       "      <td>ENSG00000272438</td>\n",
       "      <td>904834</td>\n",
       "    </tr>\n",
       "    <tr>\n",
       "      <th>chr1:912768-913268</th>\n",
       "      <td>body</td>\n",
       "      <td>ENSG00000230699</td>\n",
       "      <td>911435</td>\n",
       "    </tr>\n",
       "    <tr>\n",
       "      <th>chr1:915682-916182</th>\n",
       "      <td>down_distal</td>\n",
       "      <td>FAM87B</td>\n",
       "      <td>817371</td>\n",
       "    </tr>\n",
       "  </tbody>\n",
       "</table>\n",
       "</div>"
      ],
      "text/plain": [
       "                       peaktype         neargene neargene_tss\n",
       "chr1:816070-816570         body  ENSG00000290784       817712\n",
       "chr1:817092-817592     promoter  ENSG00000290784       817712\n",
       "chr1:827266-827766     promoter        LINC01128       826832\n",
       "chr1:838271-838771         body        LINC01128       826832\n",
       "chr1:842638-843138         body        LINC01128       827673\n",
       "chr1:856533-857033         body        LINC01128       827598\n",
       "chr1:858585-859085         body        LINC01128       827598\n",
       "chr1:860736-861236     promoter  ENSG00000288531       860227\n",
       "chr1:869632-870132     promoter           FAM41C       870201\n",
       "chr1:876439-876939     promoter  ENSG00000283040       877234\n",
       "chr1:890619-891119  down_distal  ENSG00000285268       781937\n",
       "chr1:897221-897721  down_distal        LINC01409       803934\n",
       "chr1:898274-898774  down_distal        LINC01409       803934\n",
       "chr1:904520-905020  down_distal        LINC01409       803934\n",
       "chr1:905170-905670     promoter  ENSG00000272438       904834\n",
       "chr1:906630-907130         body  ENSG00000272438       904834\n",
       "chr1:909981-910481         body  ENSG00000272438       904834\n",
       "chr1:911150-911650         body  ENSG00000272438       904834\n",
       "chr1:912768-913268         body  ENSG00000230699       911435\n",
       "chr1:915682-916182  down_distal           FAM87B       817371"
      ]
     },
     "execution_count": 14,
     "metadata": {},
     "output_type": "execute_result"
    }
   ],
   "source": [
    "adata.var[['peaktype','neargene','neargene_tss']].head(20)"
   ]
  },
  {
   "cell_type": "code",
   "execution_count": null,
   "id": "7efb2dac-883f-49d2-9ab8-34d3186040a4",
   "metadata": {},
   "outputs": [],
   "source": []
  }
 ],
 "metadata": {
  "kernelspec": {
   "display_name": "Python 3 (ipykernel)",
   "language": "python",
   "name": "python3"
  },
  "language_info": {
   "codemirror_mode": {
    "name": "ipython",
    "version": 3
   },
   "file_extension": ".py",
   "mimetype": "text/x-python",
   "name": "python",
   "nbconvert_exporter": "python",
   "pygments_lexer": "ipython3",
   "version": "3.8.12"
  }
 },
 "nbformat": 4,
 "nbformat_minor": 5
}
